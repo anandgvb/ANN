{
  "nbformat": 4,
  "nbformat_minor": 0,
  "metadata": {
    "colab": {
      "name": "own1.ipynb",
      "provenance": [],
      "collapsed_sections": []
    },
    "kernelspec": {
      "name": "python3",
      "display_name": "Python 3"
    }
  },
  "cells": [
    {
      "cell_type": "code",
      "metadata": {
        "id": "9LHqTPelpj-v",
        "colab_type": "code",
        "colab": {}
      },
      "source": [
        "import numpy as np\n",
        "import pandas as pd\n",
        "import seaborn as sns"
      ],
      "execution_count": 0,
      "outputs": []
    },
    {
      "cell_type": "code",
      "metadata": {
        "id": "4-F4Lauxp7SZ",
        "colab_type": "code",
        "outputId": "c4829cc0-f034-47c6-9de5-a76e241539c5",
        "colab": {
          "base_uri": "https://localhost:8080/",
          "height": 478
        }
      },
      "source": [
        "df = pd.read_csv('original.csv', header=0)\n",
        "df"
      ],
      "execution_count": 0,
      "outputs": [
        {
          "output_type": "execute_result",
          "data": {
            "text/html": [
              "<div>\n",
              "<style scoped>\n",
              "    .dataframe tbody tr th:only-of-type {\n",
              "        vertical-align: middle;\n",
              "    }\n",
              "\n",
              "    .dataframe tbody tr th {\n",
              "        vertical-align: top;\n",
              "    }\n",
              "\n",
              "    .dataframe thead th {\n",
              "        text-align: right;\n",
              "    }\n",
              "</style>\n",
              "<table border=\"1\" class=\"dataframe\">\n",
              "  <thead>\n",
              "    <tr style=\"text-align: right;\">\n",
              "      <th></th>\n",
              "      <th>price</th>\n",
              "      <th>resid_area</th>\n",
              "      <th>air_qual</th>\n",
              "      <th>room_num</th>\n",
              "      <th>age</th>\n",
              "      <th>dist1</th>\n",
              "      <th>dist2</th>\n",
              "      <th>dist3</th>\n",
              "      <th>dist4</th>\n",
              "      <th>teachers</th>\n",
              "      <th>poor_prop</th>\n",
              "      <th>airport</th>\n",
              "      <th>n_hos_beds</th>\n",
              "      <th>n_hot_rooms</th>\n",
              "      <th>waterbody</th>\n",
              "      <th>rainfall</th>\n",
              "      <th>bus_ter</th>\n",
              "      <th>parks</th>\n",
              "      <th>Sold</th>\n",
              "    </tr>\n",
              "  </thead>\n",
              "  <tbody>\n",
              "    <tr>\n",
              "      <th>0</th>\n",
              "      <td>24.0</td>\n",
              "      <td>32.31</td>\n",
              "      <td>0.538</td>\n",
              "      <td>6.575</td>\n",
              "      <td>65.2</td>\n",
              "      <td>4.35</td>\n",
              "      <td>3.81</td>\n",
              "      <td>4.18</td>\n",
              "      <td>4.01</td>\n",
              "      <td>24.7</td>\n",
              "      <td>4.98</td>\n",
              "      <td>YES</td>\n",
              "      <td>5.480</td>\n",
              "      <td>11.1920</td>\n",
              "      <td>River</td>\n",
              "      <td>23</td>\n",
              "      <td>YES</td>\n",
              "      <td>0.049347</td>\n",
              "      <td>0</td>\n",
              "    </tr>\n",
              "    <tr>\n",
              "      <th>1</th>\n",
              "      <td>21.6</td>\n",
              "      <td>37.07</td>\n",
              "      <td>0.469</td>\n",
              "      <td>6.421</td>\n",
              "      <td>78.9</td>\n",
              "      <td>4.99</td>\n",
              "      <td>4.70</td>\n",
              "      <td>5.12</td>\n",
              "      <td>5.06</td>\n",
              "      <td>22.2</td>\n",
              "      <td>9.14</td>\n",
              "      <td>NO</td>\n",
              "      <td>7.332</td>\n",
              "      <td>12.1728</td>\n",
              "      <td>Lake</td>\n",
              "      <td>42</td>\n",
              "      <td>YES</td>\n",
              "      <td>0.046146</td>\n",
              "      <td>1</td>\n",
              "    </tr>\n",
              "    <tr>\n",
              "      <th>2</th>\n",
              "      <td>34.7</td>\n",
              "      <td>37.07</td>\n",
              "      <td>0.469</td>\n",
              "      <td>7.185</td>\n",
              "      <td>61.1</td>\n",
              "      <td>5.03</td>\n",
              "      <td>4.86</td>\n",
              "      <td>5.01</td>\n",
              "      <td>4.97</td>\n",
              "      <td>22.2</td>\n",
              "      <td>4.03</td>\n",
              "      <td>NO</td>\n",
              "      <td>7.394</td>\n",
              "      <td>101.1200</td>\n",
              "      <td>None</td>\n",
              "      <td>38</td>\n",
              "      <td>YES</td>\n",
              "      <td>0.045764</td>\n",
              "      <td>0</td>\n",
              "    </tr>\n",
              "    <tr>\n",
              "      <th>3</th>\n",
              "      <td>33.4</td>\n",
              "      <td>32.18</td>\n",
              "      <td>0.458</td>\n",
              "      <td>6.998</td>\n",
              "      <td>45.8</td>\n",
              "      <td>6.21</td>\n",
              "      <td>5.93</td>\n",
              "      <td>6.16</td>\n",
              "      <td>5.96</td>\n",
              "      <td>21.3</td>\n",
              "      <td>2.94</td>\n",
              "      <td>YES</td>\n",
              "      <td>9.268</td>\n",
              "      <td>11.2672</td>\n",
              "      <td>Lake</td>\n",
              "      <td>45</td>\n",
              "      <td>YES</td>\n",
              "      <td>0.047151</td>\n",
              "      <td>0</td>\n",
              "    </tr>\n",
              "    <tr>\n",
              "      <th>4</th>\n",
              "      <td>36.2</td>\n",
              "      <td>32.18</td>\n",
              "      <td>0.458</td>\n",
              "      <td>7.147</td>\n",
              "      <td>54.2</td>\n",
              "      <td>6.16</td>\n",
              "      <td>5.86</td>\n",
              "      <td>6.37</td>\n",
              "      <td>5.86</td>\n",
              "      <td>21.3</td>\n",
              "      <td>5.33</td>\n",
              "      <td>NO</td>\n",
              "      <td>8.824</td>\n",
              "      <td>11.2896</td>\n",
              "      <td>Lake</td>\n",
              "      <td>55</td>\n",
              "      <td>YES</td>\n",
              "      <td>0.039474</td>\n",
              "      <td>0</td>\n",
              "    </tr>\n",
              "    <tr>\n",
              "      <th>...</th>\n",
              "      <td>...</td>\n",
              "      <td>...</td>\n",
              "      <td>...</td>\n",
              "      <td>...</td>\n",
              "      <td>...</td>\n",
              "      <td>...</td>\n",
              "      <td>...</td>\n",
              "      <td>...</td>\n",
              "      <td>...</td>\n",
              "      <td>...</td>\n",
              "      <td>...</td>\n",
              "      <td>...</td>\n",
              "      <td>...</td>\n",
              "      <td>...</td>\n",
              "      <td>...</td>\n",
              "      <td>...</td>\n",
              "      <td>...</td>\n",
              "      <td>...</td>\n",
              "      <td>...</td>\n",
              "    </tr>\n",
              "    <tr>\n",
              "      <th>501</th>\n",
              "      <td>22.4</td>\n",
              "      <td>41.93</td>\n",
              "      <td>0.573</td>\n",
              "      <td>6.593</td>\n",
              "      <td>69.1</td>\n",
              "      <td>2.64</td>\n",
              "      <td>2.45</td>\n",
              "      <td>2.76</td>\n",
              "      <td>2.06</td>\n",
              "      <td>19.0</td>\n",
              "      <td>9.67</td>\n",
              "      <td>NO</td>\n",
              "      <td>9.348</td>\n",
              "      <td>12.1792</td>\n",
              "      <td>Lake and River</td>\n",
              "      <td>27</td>\n",
              "      <td>YES</td>\n",
              "      <td>0.056006</td>\n",
              "      <td>1</td>\n",
              "    </tr>\n",
              "    <tr>\n",
              "      <th>502</th>\n",
              "      <td>20.6</td>\n",
              "      <td>41.93</td>\n",
              "      <td>0.573</td>\n",
              "      <td>6.120</td>\n",
              "      <td>76.7</td>\n",
              "      <td>2.44</td>\n",
              "      <td>2.11</td>\n",
              "      <td>2.46</td>\n",
              "      <td>2.14</td>\n",
              "      <td>19.0</td>\n",
              "      <td>9.08</td>\n",
              "      <td>YES</td>\n",
              "      <td>6.612</td>\n",
              "      <td>13.1648</td>\n",
              "      <td>Lake and River</td>\n",
              "      <td>20</td>\n",
              "      <td>YES</td>\n",
              "      <td>0.059903</td>\n",
              "      <td>1</td>\n",
              "    </tr>\n",
              "    <tr>\n",
              "      <th>503</th>\n",
              "      <td>23.9</td>\n",
              "      <td>41.93</td>\n",
              "      <td>0.573</td>\n",
              "      <td>6.976</td>\n",
              "      <td>91.0</td>\n",
              "      <td>2.34</td>\n",
              "      <td>2.06</td>\n",
              "      <td>2.29</td>\n",
              "      <td>1.98</td>\n",
              "      <td>19.0</td>\n",
              "      <td>5.64</td>\n",
              "      <td>NO</td>\n",
              "      <td>5.478</td>\n",
              "      <td>12.1912</td>\n",
              "      <td>None</td>\n",
              "      <td>31</td>\n",
              "      <td>YES</td>\n",
              "      <td>0.057572</td>\n",
              "      <td>1</td>\n",
              "    </tr>\n",
              "    <tr>\n",
              "      <th>504</th>\n",
              "      <td>22.0</td>\n",
              "      <td>41.93</td>\n",
              "      <td>0.573</td>\n",
              "      <td>6.794</td>\n",
              "      <td>89.3</td>\n",
              "      <td>2.54</td>\n",
              "      <td>2.31</td>\n",
              "      <td>2.40</td>\n",
              "      <td>2.31</td>\n",
              "      <td>19.0</td>\n",
              "      <td>6.48</td>\n",
              "      <td>YES</td>\n",
              "      <td>7.940</td>\n",
              "      <td>15.1760</td>\n",
              "      <td>None</td>\n",
              "      <td>47</td>\n",
              "      <td>YES</td>\n",
              "      <td>0.060694</td>\n",
              "      <td>1</td>\n",
              "    </tr>\n",
              "    <tr>\n",
              "      <th>505</th>\n",
              "      <td>19.0</td>\n",
              "      <td>41.93</td>\n",
              "      <td>0.573</td>\n",
              "      <td>6.030</td>\n",
              "      <td>80.8</td>\n",
              "      <td>2.72</td>\n",
              "      <td>2.24</td>\n",
              "      <td>2.64</td>\n",
              "      <td>2.42</td>\n",
              "      <td>19.0</td>\n",
              "      <td>7.88</td>\n",
              "      <td>YES</td>\n",
              "      <td>10.280</td>\n",
              "      <td>10.1520</td>\n",
              "      <td>None</td>\n",
              "      <td>45</td>\n",
              "      <td>YES</td>\n",
              "      <td>0.060336</td>\n",
              "      <td>1</td>\n",
              "    </tr>\n",
              "  </tbody>\n",
              "</table>\n",
              "<p>506 rows × 19 columns</p>\n",
              "</div>"
            ],
            "text/plain": [
              "     price  resid_area  air_qual  room_num  ...  rainfall  bus_ter     parks  Sold\n",
              "0     24.0       32.31     0.538     6.575  ...        23      YES  0.049347     0\n",
              "1     21.6       37.07     0.469     6.421  ...        42      YES  0.046146     1\n",
              "2     34.7       37.07     0.469     7.185  ...        38      YES  0.045764     0\n",
              "3     33.4       32.18     0.458     6.998  ...        45      YES  0.047151     0\n",
              "4     36.2       32.18     0.458     7.147  ...        55      YES  0.039474     0\n",
              "..     ...         ...       ...       ...  ...       ...      ...       ...   ...\n",
              "501   22.4       41.93     0.573     6.593  ...        27      YES  0.056006     1\n",
              "502   20.6       41.93     0.573     6.120  ...        20      YES  0.059903     1\n",
              "503   23.9       41.93     0.573     6.976  ...        31      YES  0.057572     1\n",
              "504   22.0       41.93     0.573     6.794  ...        47      YES  0.060694     1\n",
              "505   19.0       41.93     0.573     6.030  ...        45      YES  0.060336     1\n",
              "\n",
              "[506 rows x 19 columns]"
            ]
          },
          "metadata": {
            "tags": []
          },
          "execution_count": 5
        }
      ]
    },
    {
      "cell_type": "code",
      "metadata": {
        "id": "j7tuV8IZqIDa",
        "colab_type": "code",
        "outputId": "261a7e73-a8e2-478c-bb7e-06c7055f17d7",
        "colab": {
          "base_uri": "https://localhost:8080/",
          "height": 226
        }
      },
      "source": [
        "df.head()"
      ],
      "execution_count": 0,
      "outputs": [
        {
          "output_type": "execute_result",
          "data": {
            "text/html": [
              "<div>\n",
              "<style scoped>\n",
              "    .dataframe tbody tr th:only-of-type {\n",
              "        vertical-align: middle;\n",
              "    }\n",
              "\n",
              "    .dataframe tbody tr th {\n",
              "        vertical-align: top;\n",
              "    }\n",
              "\n",
              "    .dataframe thead th {\n",
              "        text-align: right;\n",
              "    }\n",
              "</style>\n",
              "<table border=\"1\" class=\"dataframe\">\n",
              "  <thead>\n",
              "    <tr style=\"text-align: right;\">\n",
              "      <th></th>\n",
              "      <th>price</th>\n",
              "      <th>resid_area</th>\n",
              "      <th>air_qual</th>\n",
              "      <th>room_num</th>\n",
              "      <th>age</th>\n",
              "      <th>dist1</th>\n",
              "      <th>dist2</th>\n",
              "      <th>dist3</th>\n",
              "      <th>dist4</th>\n",
              "      <th>teachers</th>\n",
              "      <th>poor_prop</th>\n",
              "      <th>airport</th>\n",
              "      <th>n_hos_beds</th>\n",
              "      <th>n_hot_rooms</th>\n",
              "      <th>waterbody</th>\n",
              "      <th>rainfall</th>\n",
              "      <th>bus_ter</th>\n",
              "      <th>parks</th>\n",
              "      <th>Sold</th>\n",
              "    </tr>\n",
              "  </thead>\n",
              "  <tbody>\n",
              "    <tr>\n",
              "      <th>0</th>\n",
              "      <td>24.0</td>\n",
              "      <td>32.31</td>\n",
              "      <td>0.538</td>\n",
              "      <td>6.575</td>\n",
              "      <td>65.2</td>\n",
              "      <td>4.35</td>\n",
              "      <td>3.81</td>\n",
              "      <td>4.18</td>\n",
              "      <td>4.01</td>\n",
              "      <td>24.7</td>\n",
              "      <td>4.98</td>\n",
              "      <td>YES</td>\n",
              "      <td>5.480</td>\n",
              "      <td>11.1920</td>\n",
              "      <td>River</td>\n",
              "      <td>23</td>\n",
              "      <td>YES</td>\n",
              "      <td>0.049347</td>\n",
              "      <td>0</td>\n",
              "    </tr>\n",
              "    <tr>\n",
              "      <th>1</th>\n",
              "      <td>21.6</td>\n",
              "      <td>37.07</td>\n",
              "      <td>0.469</td>\n",
              "      <td>6.421</td>\n",
              "      <td>78.9</td>\n",
              "      <td>4.99</td>\n",
              "      <td>4.70</td>\n",
              "      <td>5.12</td>\n",
              "      <td>5.06</td>\n",
              "      <td>22.2</td>\n",
              "      <td>9.14</td>\n",
              "      <td>NO</td>\n",
              "      <td>7.332</td>\n",
              "      <td>12.1728</td>\n",
              "      <td>Lake</td>\n",
              "      <td>42</td>\n",
              "      <td>YES</td>\n",
              "      <td>0.046146</td>\n",
              "      <td>1</td>\n",
              "    </tr>\n",
              "    <tr>\n",
              "      <th>2</th>\n",
              "      <td>34.7</td>\n",
              "      <td>37.07</td>\n",
              "      <td>0.469</td>\n",
              "      <td>7.185</td>\n",
              "      <td>61.1</td>\n",
              "      <td>5.03</td>\n",
              "      <td>4.86</td>\n",
              "      <td>5.01</td>\n",
              "      <td>4.97</td>\n",
              "      <td>22.2</td>\n",
              "      <td>4.03</td>\n",
              "      <td>NO</td>\n",
              "      <td>7.394</td>\n",
              "      <td>101.1200</td>\n",
              "      <td>None</td>\n",
              "      <td>38</td>\n",
              "      <td>YES</td>\n",
              "      <td>0.045764</td>\n",
              "      <td>0</td>\n",
              "    </tr>\n",
              "    <tr>\n",
              "      <th>3</th>\n",
              "      <td>33.4</td>\n",
              "      <td>32.18</td>\n",
              "      <td>0.458</td>\n",
              "      <td>6.998</td>\n",
              "      <td>45.8</td>\n",
              "      <td>6.21</td>\n",
              "      <td>5.93</td>\n",
              "      <td>6.16</td>\n",
              "      <td>5.96</td>\n",
              "      <td>21.3</td>\n",
              "      <td>2.94</td>\n",
              "      <td>YES</td>\n",
              "      <td>9.268</td>\n",
              "      <td>11.2672</td>\n",
              "      <td>Lake</td>\n",
              "      <td>45</td>\n",
              "      <td>YES</td>\n",
              "      <td>0.047151</td>\n",
              "      <td>0</td>\n",
              "    </tr>\n",
              "    <tr>\n",
              "      <th>4</th>\n",
              "      <td>36.2</td>\n",
              "      <td>32.18</td>\n",
              "      <td>0.458</td>\n",
              "      <td>7.147</td>\n",
              "      <td>54.2</td>\n",
              "      <td>6.16</td>\n",
              "      <td>5.86</td>\n",
              "      <td>6.37</td>\n",
              "      <td>5.86</td>\n",
              "      <td>21.3</td>\n",
              "      <td>5.33</td>\n",
              "      <td>NO</td>\n",
              "      <td>8.824</td>\n",
              "      <td>11.2896</td>\n",
              "      <td>Lake</td>\n",
              "      <td>55</td>\n",
              "      <td>YES</td>\n",
              "      <td>0.039474</td>\n",
              "      <td>0</td>\n",
              "    </tr>\n",
              "  </tbody>\n",
              "</table>\n",
              "</div>"
            ],
            "text/plain": [
              "   price  resid_area  air_qual  room_num  ...  rainfall  bus_ter     parks  Sold\n",
              "0   24.0       32.31     0.538     6.575  ...        23      YES  0.049347     0\n",
              "1   21.6       37.07     0.469     6.421  ...        42      YES  0.046146     1\n",
              "2   34.7       37.07     0.469     7.185  ...        38      YES  0.045764     0\n",
              "3   33.4       32.18     0.458     6.998  ...        45      YES  0.047151     0\n",
              "4   36.2       32.18     0.458     7.147  ...        55      YES  0.039474     0\n",
              "\n",
              "[5 rows x 19 columns]"
            ]
          },
          "metadata": {
            "tags": []
          },
          "execution_count": 6
        }
      ]
    },
    {
      "cell_type": "code",
      "metadata": {
        "id": "e_4X1FJLqK1O",
        "colab_type": "code",
        "outputId": "491e3249-f8b7-4d67-ee49-1a79e9cf5fc7",
        "colab": {
          "base_uri": "https://localhost:8080/",
          "height": 320
        }
      },
      "source": [
        "df.describe()"
      ],
      "execution_count": 0,
      "outputs": [
        {
          "output_type": "execute_result",
          "data": {
            "text/html": [
              "<div>\n",
              "<style scoped>\n",
              "    .dataframe tbody tr th:only-of-type {\n",
              "        vertical-align: middle;\n",
              "    }\n",
              "\n",
              "    .dataframe tbody tr th {\n",
              "        vertical-align: top;\n",
              "    }\n",
              "\n",
              "    .dataframe thead th {\n",
              "        text-align: right;\n",
              "    }\n",
              "</style>\n",
              "<table border=\"1\" class=\"dataframe\">\n",
              "  <thead>\n",
              "    <tr style=\"text-align: right;\">\n",
              "      <th></th>\n",
              "      <th>price</th>\n",
              "      <th>resid_area</th>\n",
              "      <th>air_qual</th>\n",
              "      <th>room_num</th>\n",
              "      <th>age</th>\n",
              "      <th>dist1</th>\n",
              "      <th>dist2</th>\n",
              "      <th>dist3</th>\n",
              "      <th>dist4</th>\n",
              "      <th>teachers</th>\n",
              "      <th>poor_prop</th>\n",
              "      <th>n_hos_beds</th>\n",
              "      <th>n_hot_rooms</th>\n",
              "      <th>rainfall</th>\n",
              "      <th>parks</th>\n",
              "      <th>Sold</th>\n",
              "    </tr>\n",
              "  </thead>\n",
              "  <tbody>\n",
              "    <tr>\n",
              "      <th>count</th>\n",
              "      <td>506.000000</td>\n",
              "      <td>506.000000</td>\n",
              "      <td>506.000000</td>\n",
              "      <td>506.000000</td>\n",
              "      <td>506.000000</td>\n",
              "      <td>506.000000</td>\n",
              "      <td>506.000000</td>\n",
              "      <td>506.000000</td>\n",
              "      <td>506.000000</td>\n",
              "      <td>506.000000</td>\n",
              "      <td>506.000000</td>\n",
              "      <td>498.000000</td>\n",
              "      <td>506.000000</td>\n",
              "      <td>506.000000</td>\n",
              "      <td>506.000000</td>\n",
              "      <td>506.000000</td>\n",
              "    </tr>\n",
              "    <tr>\n",
              "      <th>mean</th>\n",
              "      <td>22.528854</td>\n",
              "      <td>41.136779</td>\n",
              "      <td>0.554695</td>\n",
              "      <td>6.284634</td>\n",
              "      <td>68.574901</td>\n",
              "      <td>3.971996</td>\n",
              "      <td>3.628775</td>\n",
              "      <td>3.960672</td>\n",
              "      <td>3.618972</td>\n",
              "      <td>21.544466</td>\n",
              "      <td>12.653063</td>\n",
              "      <td>7.899767</td>\n",
              "      <td>13.041605</td>\n",
              "      <td>39.181818</td>\n",
              "      <td>0.054454</td>\n",
              "      <td>0.454545</td>\n",
              "    </tr>\n",
              "    <tr>\n",
              "      <th>std</th>\n",
              "      <td>9.182176</td>\n",
              "      <td>6.860353</td>\n",
              "      <td>0.115878</td>\n",
              "      <td>0.702617</td>\n",
              "      <td>28.148861</td>\n",
              "      <td>2.108532</td>\n",
              "      <td>2.108580</td>\n",
              "      <td>2.119797</td>\n",
              "      <td>2.099203</td>\n",
              "      <td>2.164946</td>\n",
              "      <td>7.141062</td>\n",
              "      <td>1.476683</td>\n",
              "      <td>5.238957</td>\n",
              "      <td>12.513697</td>\n",
              "      <td>0.010632</td>\n",
              "      <td>0.498422</td>\n",
              "    </tr>\n",
              "    <tr>\n",
              "      <th>min</th>\n",
              "      <td>5.000000</td>\n",
              "      <td>30.460000</td>\n",
              "      <td>0.385000</td>\n",
              "      <td>3.561000</td>\n",
              "      <td>2.900000</td>\n",
              "      <td>1.130000</td>\n",
              "      <td>0.920000</td>\n",
              "      <td>1.150000</td>\n",
              "      <td>0.730000</td>\n",
              "      <td>18.000000</td>\n",
              "      <td>1.730000</td>\n",
              "      <td>5.268000</td>\n",
              "      <td>10.057600</td>\n",
              "      <td>3.000000</td>\n",
              "      <td>0.033292</td>\n",
              "      <td>0.000000</td>\n",
              "    </tr>\n",
              "    <tr>\n",
              "      <th>25%</th>\n",
              "      <td>17.025000</td>\n",
              "      <td>35.190000</td>\n",
              "      <td>0.449000</td>\n",
              "      <td>5.885500</td>\n",
              "      <td>45.025000</td>\n",
              "      <td>2.270000</td>\n",
              "      <td>1.940000</td>\n",
              "      <td>2.232500</td>\n",
              "      <td>1.940000</td>\n",
              "      <td>19.800000</td>\n",
              "      <td>6.950000</td>\n",
              "      <td>6.634500</td>\n",
              "      <td>11.189800</td>\n",
              "      <td>28.000000</td>\n",
              "      <td>0.046464</td>\n",
              "      <td>0.000000</td>\n",
              "    </tr>\n",
              "    <tr>\n",
              "      <th>50%</th>\n",
              "      <td>21.200000</td>\n",
              "      <td>39.690000</td>\n",
              "      <td>0.538000</td>\n",
              "      <td>6.208500</td>\n",
              "      <td>77.500000</td>\n",
              "      <td>3.385000</td>\n",
              "      <td>3.010000</td>\n",
              "      <td>3.375000</td>\n",
              "      <td>3.070000</td>\n",
              "      <td>20.950000</td>\n",
              "      <td>11.360000</td>\n",
              "      <td>7.999000</td>\n",
              "      <td>12.720000</td>\n",
              "      <td>39.000000</td>\n",
              "      <td>0.053507</td>\n",
              "      <td>0.000000</td>\n",
              "    </tr>\n",
              "    <tr>\n",
              "      <th>75%</th>\n",
              "      <td>25.000000</td>\n",
              "      <td>48.100000</td>\n",
              "      <td>0.624000</td>\n",
              "      <td>6.623500</td>\n",
              "      <td>94.075000</td>\n",
              "      <td>5.367500</td>\n",
              "      <td>4.992500</td>\n",
              "      <td>5.407500</td>\n",
              "      <td>4.985000</td>\n",
              "      <td>22.600000</td>\n",
              "      <td>16.955000</td>\n",
              "      <td>9.088000</td>\n",
              "      <td>14.170800</td>\n",
              "      <td>50.000000</td>\n",
              "      <td>0.061397</td>\n",
              "      <td>1.000000</td>\n",
              "    </tr>\n",
              "    <tr>\n",
              "      <th>max</th>\n",
              "      <td>50.000000</td>\n",
              "      <td>57.740000</td>\n",
              "      <td>0.871000</td>\n",
              "      <td>8.780000</td>\n",
              "      <td>100.000000</td>\n",
              "      <td>12.320000</td>\n",
              "      <td>11.930000</td>\n",
              "      <td>12.320000</td>\n",
              "      <td>11.940000</td>\n",
              "      <td>27.400000</td>\n",
              "      <td>37.970000</td>\n",
              "      <td>10.876000</td>\n",
              "      <td>101.120000</td>\n",
              "      <td>60.000000</td>\n",
              "      <td>0.086711</td>\n",
              "      <td>1.000000</td>\n",
              "    </tr>\n",
              "  </tbody>\n",
              "</table>\n",
              "</div>"
            ],
            "text/plain": [
              "            price  resid_area    air_qual  ...    rainfall       parks        Sold\n",
              "count  506.000000  506.000000  506.000000  ...  506.000000  506.000000  506.000000\n",
              "mean    22.528854   41.136779    0.554695  ...   39.181818    0.054454    0.454545\n",
              "std      9.182176    6.860353    0.115878  ...   12.513697    0.010632    0.498422\n",
              "min      5.000000   30.460000    0.385000  ...    3.000000    0.033292    0.000000\n",
              "25%     17.025000   35.190000    0.449000  ...   28.000000    0.046464    0.000000\n",
              "50%     21.200000   39.690000    0.538000  ...   39.000000    0.053507    0.000000\n",
              "75%     25.000000   48.100000    0.624000  ...   50.000000    0.061397    1.000000\n",
              "max     50.000000   57.740000    0.871000  ...   60.000000    0.086711    1.000000\n",
              "\n",
              "[8 rows x 16 columns]"
            ]
          },
          "metadata": {
            "tags": []
          },
          "execution_count": 7
        }
      ]
    },
    {
      "cell_type": "code",
      "metadata": {
        "id": "U9bOIZUdqSyX",
        "colab_type": "code",
        "outputId": "ba52918e-82e7-4b30-edfe-7a04787513b6",
        "colab": {
          "base_uri": "https://localhost:8080/",
          "height": 459
        }
      },
      "source": [
        "sns.jointplot(x='price', y='Sold', data=df)"
      ],
      "execution_count": 0,
      "outputs": [
        {
          "output_type": "execute_result",
          "data": {
            "text/plain": [
              "<seaborn.axisgrid.JointGrid at 0x7f8ff4733cf8>"
            ]
          },
          "metadata": {
            "tags": []
          },
          "execution_count": 8
        },
        {
          "output_type": "display_data",
          "data": {
            "image/png": "[encoded data removed]",
            "text/plain": [
              "<Figure size 432x432 with 3 Axes>"
            ]
          },
          "metadata": {
            "tags": [],
            "needs_background": "light"
          }
        }
      ]
    },
    {
      "cell_type": "code",
      "metadata": {
        "id": "QjsxyIuxqu_d",
        "colab_type": "code",
        "outputId": "e5cb11a5-1c53-4d4d-847a-6d281c2f222c",
        "colab": {
          "base_uri": "https://localhost:8080/",
          "height": 459
        }
      },
      "source": [
        "sns.jointplot(x='n_hot_rooms', y='price', data=df)"
      ],
      "execution_count": 0,
      "outputs": [
        {
          "output_type": "execute_result",
          "data": {
            "text/plain": [
              "<seaborn.axisgrid.JointGrid at 0x7f8ff4733358>"
            ]
          },
          "metadata": {
            "tags": []
          },
          "execution_count": 9
        },
        {
          "output_type": "display_data",
          "data": {
            "image/png": "[encoded data removed]",
            "text/plain": [
              "<Figure size 432x432 with 3 Axes>"
            ]
          },
          "metadata": {
            "tags": [],
            "needs_background": "light"
          }
        }
      ]
    },
    {
      "cell_type": "code",
      "metadata": {
        "id": "Xl92PHOIr3OF",
        "colab_type": "code",
        "outputId": "1a506c74-45d4-48be-ce25-d25110642cde",
        "colab": {
          "base_uri": "https://localhost:8080/",
          "height": 459
        }
      },
      "source": [
        "sns.jointplot(x=\"rainfall\", y=\"price\", data=df)"
      ],
      "execution_count": 0,
      "outputs": [
        {
          "output_type": "execute_result",
          "data": {
            "text/plain": [
              "<seaborn.axisgrid.JointGrid at 0x7f8ff4733f98>"
            ]
          },
          "metadata": {
            "tags": []
          },
          "execution_count": 10
        },
        {
          "output_type": "display_data",
          "data": {
            "image/png": "[encoded data removed]",
            "text/plain": [
              "<Figure size 432x432 with 3 Axes>"
            ]
          },
          "metadata": {
            "tags": [],
            "needs_background": "light"
          }
        }
      ]
    },
    {
      "cell_type": "code",
      "metadata": {
        "id": "QzpKi4j1r6mw",
        "colab_type": "code",
        "outputId": "da823dbe-8258-4f38-fc93-298dc2afbe90",
        "colab": {
          "base_uri": "https://localhost:8080/",
          "height": 459
        }
      },
      "source": [
        "sns.jointplot(x=\"resid_area\", y=\"price\", data=df)"
      ],
      "execution_count": 0,
      "outputs": [
        {
          "output_type": "execute_result",
          "data": {
            "text/plain": [
              "<seaborn.axisgrid.JointGrid at 0x7f8ff47339e8>"
            ]
          },
          "metadata": {
            "tags": []
          },
          "execution_count": 11
        },
        {
          "output_type": "display_data",
          "data": {
            "image/png": "[encoded data removed]",
            "text/plain": [
              "<Figure size 432x432 with 3 Axes>"
            ]
          },
          "metadata": {
            "tags": [],
            "needs_background": "light"
          }
        }
      ]
    },
    {
      "cell_type": "code",
      "metadata": {
        "id": "FJ_0SpIhsRwG",
        "colab_type": "code",
        "outputId": "5a34054e-c16e-4c5e-e3b4-14b089b0a213",
        "colab": {
          "base_uri": "https://localhost:8080/",
          "height": 35
        }
      },
      "source": [
        "np.percentile(df.n_hot_rooms,[99])[0]"
      ],
      "execution_count": 0,
      "outputs": [
        {
          "output_type": "execute_result",
          "data": {
            "text/plain": [
              "15.399519999999999"
            ]
          },
          "metadata": {
            "tags": []
          },
          "execution_count": 12
        }
      ]
    },
    {
      "cell_type": "code",
      "metadata": {
        "id": "XyQdnpGFsgXx",
        "colab_type": "code",
        "colab": {}
      },
      "source": [
        "uv = np.percentile(df.n_hot_rooms,[99])[0]"
      ],
      "execution_count": 0,
      "outputs": []
    },
    {
      "cell_type": "code",
      "metadata": {
        "id": "yLoyOEQ7si2b",
        "colab_type": "code",
        "outputId": "44042e33-76db-4fc9-a582-dffefd6608b2",
        "colab": {
          "base_uri": "https://localhost:8080/",
          "height": 257
        }
      },
      "source": [
        "df[(df.n_hot_rooms>uv)]"
      ],
      "execution_count": 0,
      "outputs": [
        {
          "output_type": "execute_result",
          "data": {
            "text/html": [
              "<div>\n",
              "<style scoped>\n",
              "    .dataframe tbody tr th:only-of-type {\n",
              "        vertical-align: middle;\n",
              "    }\n",
              "\n",
              "    .dataframe tbody tr th {\n",
              "        vertical-align: top;\n",
              "    }\n",
              "\n",
              "    .dataframe thead th {\n",
              "        text-align: right;\n",
              "    }\n",
              "</style>\n",
              "<table border=\"1\" class=\"dataframe\">\n",
              "  <thead>\n",
              "    <tr style=\"text-align: right;\">\n",
              "      <th></th>\n",
              "      <th>price</th>\n",
              "      <th>resid_area</th>\n",
              "      <th>air_qual</th>\n",
              "      <th>room_num</th>\n",
              "      <th>age</th>\n",
              "      <th>dist1</th>\n",
              "      <th>dist2</th>\n",
              "      <th>dist3</th>\n",
              "      <th>dist4</th>\n",
              "      <th>teachers</th>\n",
              "      <th>poor_prop</th>\n",
              "      <th>airport</th>\n",
              "      <th>n_hos_beds</th>\n",
              "      <th>n_hot_rooms</th>\n",
              "      <th>waterbody</th>\n",
              "      <th>rainfall</th>\n",
              "      <th>bus_ter</th>\n",
              "      <th>parks</th>\n",
              "      <th>Sold</th>\n",
              "    </tr>\n",
              "  </thead>\n",
              "  <tbody>\n",
              "    <tr>\n",
              "      <th>2</th>\n",
              "      <td>34.7</td>\n",
              "      <td>37.07</td>\n",
              "      <td>0.4690</td>\n",
              "      <td>7.185</td>\n",
              "      <td>61.1</td>\n",
              "      <td>5.03</td>\n",
              "      <td>4.86</td>\n",
              "      <td>5.01</td>\n",
              "      <td>4.97</td>\n",
              "      <td>22.2</td>\n",
              "      <td>4.03</td>\n",
              "      <td>NO</td>\n",
              "      <td>7.394</td>\n",
              "      <td>101.12</td>\n",
              "      <td>None</td>\n",
              "      <td>38</td>\n",
              "      <td>YES</td>\n",
              "      <td>0.045764</td>\n",
              "      <td>0</td>\n",
              "    </tr>\n",
              "    <tr>\n",
              "      <th>166</th>\n",
              "      <td>50.0</td>\n",
              "      <td>49.58</td>\n",
              "      <td>0.6050</td>\n",
              "      <td>7.929</td>\n",
              "      <td>96.2</td>\n",
              "      <td>2.11</td>\n",
              "      <td>1.91</td>\n",
              "      <td>2.31</td>\n",
              "      <td>1.86</td>\n",
              "      <td>25.3</td>\n",
              "      <td>3.70</td>\n",
              "      <td>YES</td>\n",
              "      <td>8.300</td>\n",
              "      <td>15.40</td>\n",
              "      <td>River</td>\n",
              "      <td>37</td>\n",
              "      <td>YES</td>\n",
              "      <td>0.052105</td>\n",
              "      <td>0</td>\n",
              "    </tr>\n",
              "    <tr>\n",
              "      <th>204</th>\n",
              "      <td>50.0</td>\n",
              "      <td>32.68</td>\n",
              "      <td>0.4161</td>\n",
              "      <td>8.034</td>\n",
              "      <td>31.9</td>\n",
              "      <td>5.41</td>\n",
              "      <td>4.80</td>\n",
              "      <td>5.28</td>\n",
              "      <td>4.99</td>\n",
              "      <td>25.3</td>\n",
              "      <td>2.88</td>\n",
              "      <td>YES</td>\n",
              "      <td>8.900</td>\n",
              "      <td>15.40</td>\n",
              "      <td>River</td>\n",
              "      <td>51</td>\n",
              "      <td>YES</td>\n",
              "      <td>0.044178</td>\n",
              "      <td>0</td>\n",
              "    </tr>\n",
              "    <tr>\n",
              "      <th>267</th>\n",
              "      <td>50.0</td>\n",
              "      <td>33.97</td>\n",
              "      <td>0.5750</td>\n",
              "      <td>8.297</td>\n",
              "      <td>67.0</td>\n",
              "      <td>2.60</td>\n",
              "      <td>2.13</td>\n",
              "      <td>2.43</td>\n",
              "      <td>2.52</td>\n",
              "      <td>27.0</td>\n",
              "      <td>7.44</td>\n",
              "      <td>YES</td>\n",
              "      <td>8.000</td>\n",
              "      <td>15.40</td>\n",
              "      <td>None</td>\n",
              "      <td>42</td>\n",
              "      <td>YES</td>\n",
              "      <td>0.063235</td>\n",
              "      <td>0</td>\n",
              "    </tr>\n",
              "    <tr>\n",
              "      <th>369</th>\n",
              "      <td>50.0</td>\n",
              "      <td>48.10</td>\n",
              "      <td>0.6310</td>\n",
              "      <td>6.683</td>\n",
              "      <td>96.8</td>\n",
              "      <td>1.55</td>\n",
              "      <td>1.28</td>\n",
              "      <td>1.65</td>\n",
              "      <td>0.94</td>\n",
              "      <td>19.8</td>\n",
              "      <td>3.73</td>\n",
              "      <td>YES</td>\n",
              "      <td>6.700</td>\n",
              "      <td>15.40</td>\n",
              "      <td>River</td>\n",
              "      <td>58</td>\n",
              "      <td>YES</td>\n",
              "      <td>0.067477</td>\n",
              "      <td>0</td>\n",
              "    </tr>\n",
              "    <tr>\n",
              "      <th>423</th>\n",
              "      <td>13.4</td>\n",
              "      <td>48.10</td>\n",
              "      <td>0.6140</td>\n",
              "      <td>6.103</td>\n",
              "      <td>85.1</td>\n",
              "      <td>2.08</td>\n",
              "      <td>1.80</td>\n",
              "      <td>2.34</td>\n",
              "      <td>1.87</td>\n",
              "      <td>19.8</td>\n",
              "      <td>23.29</td>\n",
              "      <td>NO</td>\n",
              "      <td>8.268</td>\n",
              "      <td>81.12</td>\n",
              "      <td>Lake</td>\n",
              "      <td>29</td>\n",
              "      <td>YES</td>\n",
              "      <td>0.063344</td>\n",
              "      <td>0</td>\n",
              "    </tr>\n",
              "  </tbody>\n",
              "</table>\n",
              "</div>"
            ],
            "text/plain": [
              "     price  resid_area  air_qual  room_num  ...  rainfall  bus_ter     parks  Sold\n",
              "2     34.7       37.07    0.4690     7.185  ...        38      YES  0.045764     0\n",
              "166   50.0       49.58    0.6050     7.929  ...        37      YES  0.052105     0\n",
              "204   50.0       32.68    0.4161     8.034  ...        51      YES  0.044178     0\n",
              "267   50.0       33.97    0.5750     8.297  ...        42      YES  0.063235     0\n",
              "369   50.0       48.10    0.6310     6.683  ...        58      YES  0.067477     0\n",
              "423   13.4       48.10    0.6140     6.103  ...        29      YES  0.063344     0\n",
              "\n",
              "[6 rows x 19 columns]"
            ]
          },
          "metadata": {
            "tags": []
          },
          "execution_count": 14
        }
      ]
    },
    {
      "cell_type": "code",
      "metadata": {
        "id": "34xiZkFdsmlK",
        "colab_type": "code",
        "outputId": "4e2df40b-bfc3-40f3-d6c2-c1becc4ee4e1",
        "colab": {
          "base_uri": "https://localhost:8080/",
          "height": 128
        }
      },
      "source": [
        "df.n_hot_rooms[(df.n_hot_rooms> 3*uv)] = 3*uv"
      ],
      "execution_count": 0,
      "outputs": [
        {
          "output_type": "stream",
          "text": [
            "/usr/local/lib/python3.6/dist-packages/ipykernel_launcher.py:1: SettingWithCopyWarning: \n",
            "A value is trying to be set on a copy of a slice from a DataFrame\n",
            "\n",
            "See the caveats in the documentation: https://pandas.pydata.org/pandas-docs/stable/user_guide/indexing.html#returning-a-view-versus-a-copy\n",
            "  \"\"\"Entry point for launching an IPython kernel.\n"
          ],
          "name": "stderr"
        }
      ]
    },
    {
      "cell_type": "code",
      "metadata": {
        "id": "0C0nyXwmsoYw",
        "colab_type": "code",
        "outputId": "5d193cee-5464-4961-af45-78b5688f6803",
        "colab": {
          "base_uri": "https://localhost:8080/",
          "height": 191
        }
      },
      "source": [
        "lv = np.percentile(df.rainfall,[1])[0]\n",
        "df.rainfall[(df.rainfall <0.3*lv)] = 0.3*lv\n",
        "df[(df.rainfall< lv)]"
      ],
      "execution_count": 0,
      "outputs": [
        {
          "output_type": "stream",
          "text": [
            "/usr/local/lib/python3.6/dist-packages/ipykernel_launcher.py:2: SettingWithCopyWarning: \n",
            "A value is trying to be set on a copy of a slice from a DataFrame\n",
            "\n",
            "See the caveats in the documentation: https://pandas.pydata.org/pandas-docs/stable/user_guide/indexing.html#returning-a-view-versus-a-copy\n",
            "  \n"
          ],
          "name": "stderr"
        },
        {
          "output_type": "execute_result",
          "data": {
            "text/html": [
              "<div>\n",
              "<style scoped>\n",
              "    .dataframe tbody tr th:only-of-type {\n",
              "        vertical-align: middle;\n",
              "    }\n",
              "\n",
              "    .dataframe tbody tr th {\n",
              "        vertical-align: top;\n",
              "    }\n",
              "\n",
              "    .dataframe thead th {\n",
              "        text-align: right;\n",
              "    }\n",
              "</style>\n",
              "<table border=\"1\" class=\"dataframe\">\n",
              "  <thead>\n",
              "    <tr style=\"text-align: right;\">\n",
              "      <th></th>\n",
              "      <th>price</th>\n",
              "      <th>resid_area</th>\n",
              "      <th>air_qual</th>\n",
              "      <th>room_num</th>\n",
              "      <th>age</th>\n",
              "      <th>dist1</th>\n",
              "      <th>dist2</th>\n",
              "      <th>dist3</th>\n",
              "      <th>dist4</th>\n",
              "      <th>teachers</th>\n",
              "      <th>poor_prop</th>\n",
              "      <th>airport</th>\n",
              "      <th>n_hos_beds</th>\n",
              "      <th>n_hot_rooms</th>\n",
              "      <th>waterbody</th>\n",
              "      <th>rainfall</th>\n",
              "      <th>bus_ter</th>\n",
              "      <th>parks</th>\n",
              "      <th>Sold</th>\n",
              "    </tr>\n",
              "  </thead>\n",
              "  <tbody>\n",
              "    <tr>\n",
              "      <th>213</th>\n",
              "      <td>28.1</td>\n",
              "      <td>40.59</td>\n",
              "      <td>0.489</td>\n",
              "      <td>6.375</td>\n",
              "      <td>32.3</td>\n",
              "      <td>4.11</td>\n",
              "      <td>3.92</td>\n",
              "      <td>4.18</td>\n",
              "      <td>3.57</td>\n",
              "      <td>21.4</td>\n",
              "      <td>9.38</td>\n",
              "      <td>YES</td>\n",
              "      <td>7.562</td>\n",
              "      <td>10.2248</td>\n",
              "      <td>None</td>\n",
              "      <td>6</td>\n",
              "      <td>YES</td>\n",
              "      <td>0.044019</td>\n",
              "      <td>1</td>\n",
              "    </tr>\n",
              "  </tbody>\n",
              "</table>\n",
              "</div>"
            ],
            "text/plain": [
              "     price  resid_area  air_qual  room_num  ...  rainfall  bus_ter     parks  Sold\n",
              "213   28.1       40.59     0.489     6.375  ...         6      YES  0.044019     1\n",
              "\n",
              "[1 rows x 19 columns]"
            ]
          },
          "metadata": {
            "tags": []
          },
          "execution_count": 16
        }
      ]
    },
    {
      "cell_type": "code",
      "metadata": {
        "id": "3m6CbPJvtYoO",
        "colab_type": "code",
        "colab": {}
      },
      "source": [
        "df['avg_dist'] = (df.dist1+df.dist2+df.dist3+df.dist4)/4"
      ],
      "execution_count": 0,
      "outputs": []
    },
    {
      "cell_type": "code",
      "metadata": {
        "id": "pJVyNVtSt85d",
        "colab_type": "code",
        "colab": {}
      },
      "source": [
        "del df['dist1']"
      ],
      "execution_count": 0,
      "outputs": []
    },
    {
      "cell_type": "code",
      "metadata": {
        "id": "HTHc0kQat-gS",
        "colab_type": "code",
        "colab": {}
      },
      "source": [
        "del df['dist2']\n",
        "del df['dist3']\n",
        "del df['dist4']\n",
        "del df['bus_ter']"
      ],
      "execution_count": 0,
      "outputs": []
    },
    {
      "cell_type": "code",
      "metadata": {
        "id": "63AvUUmIuKYB",
        "colab_type": "code",
        "outputId": "a7394c19-d73d-478a-cda8-f3ab6834b2d2",
        "colab": {
          "base_uri": "https://localhost:8080/",
          "height": 226
        }
      },
      "source": [
        "df.head()"
      ],
      "execution_count": 0,
      "outputs": [
        {
          "output_type": "execute_result",
          "data": {
            "text/html": [
              "<div>\n",
              "<style scoped>\n",
              "    .dataframe tbody tr th:only-of-type {\n",
              "        vertical-align: middle;\n",
              "    }\n",
              "\n",
              "    .dataframe tbody tr th {\n",
              "        vertical-align: top;\n",
              "    }\n",
              "\n",
              "    .dataframe thead th {\n",
              "        text-align: right;\n",
              "    }\n",
              "</style>\n",
              "<table border=\"1\" class=\"dataframe\">\n",
              "  <thead>\n",
              "    <tr style=\"text-align: right;\">\n",
              "      <th></th>\n",
              "      <th>price</th>\n",
              "      <th>resid_area</th>\n",
              "      <th>air_qual</th>\n",
              "      <th>room_num</th>\n",
              "      <th>age</th>\n",
              "      <th>teachers</th>\n",
              "      <th>poor_prop</th>\n",
              "      <th>airport</th>\n",
              "      <th>n_hos_beds</th>\n",
              "      <th>n_hot_rooms</th>\n",
              "      <th>waterbody</th>\n",
              "      <th>rainfall</th>\n",
              "      <th>parks</th>\n",
              "      <th>Sold</th>\n",
              "      <th>avg_dist</th>\n",
              "    </tr>\n",
              "  </thead>\n",
              "  <tbody>\n",
              "    <tr>\n",
              "      <th>0</th>\n",
              "      <td>24.0</td>\n",
              "      <td>32.31</td>\n",
              "      <td>0.538</td>\n",
              "      <td>6.575</td>\n",
              "      <td>65.2</td>\n",
              "      <td>24.7</td>\n",
              "      <td>4.98</td>\n",
              "      <td>YES</td>\n",
              "      <td>5.480</td>\n",
              "      <td>11.19200</td>\n",
              "      <td>River</td>\n",
              "      <td>23</td>\n",
              "      <td>0.049347</td>\n",
              "      <td>0</td>\n",
              "      <td>4.0875</td>\n",
              "    </tr>\n",
              "    <tr>\n",
              "      <th>1</th>\n",
              "      <td>21.6</td>\n",
              "      <td>37.07</td>\n",
              "      <td>0.469</td>\n",
              "      <td>6.421</td>\n",
              "      <td>78.9</td>\n",
              "      <td>22.2</td>\n",
              "      <td>9.14</td>\n",
              "      <td>NO</td>\n",
              "      <td>7.332</td>\n",
              "      <td>12.17280</td>\n",
              "      <td>Lake</td>\n",
              "      <td>42</td>\n",
              "      <td>0.046146</td>\n",
              "      <td>1</td>\n",
              "      <td>4.9675</td>\n",
              "    </tr>\n",
              "    <tr>\n",
              "      <th>2</th>\n",
              "      <td>34.7</td>\n",
              "      <td>37.07</td>\n",
              "      <td>0.469</td>\n",
              "      <td>7.185</td>\n",
              "      <td>61.1</td>\n",
              "      <td>22.2</td>\n",
              "      <td>4.03</td>\n",
              "      <td>NO</td>\n",
              "      <td>7.394</td>\n",
              "      <td>46.19856</td>\n",
              "      <td>None</td>\n",
              "      <td>38</td>\n",
              "      <td>0.045764</td>\n",
              "      <td>0</td>\n",
              "      <td>4.9675</td>\n",
              "    </tr>\n",
              "    <tr>\n",
              "      <th>3</th>\n",
              "      <td>33.4</td>\n",
              "      <td>32.18</td>\n",
              "      <td>0.458</td>\n",
              "      <td>6.998</td>\n",
              "      <td>45.8</td>\n",
              "      <td>21.3</td>\n",
              "      <td>2.94</td>\n",
              "      <td>YES</td>\n",
              "      <td>9.268</td>\n",
              "      <td>11.26720</td>\n",
              "      <td>Lake</td>\n",
              "      <td>45</td>\n",
              "      <td>0.047151</td>\n",
              "      <td>0</td>\n",
              "      <td>6.0650</td>\n",
              "    </tr>\n",
              "    <tr>\n",
              "      <th>4</th>\n",
              "      <td>36.2</td>\n",
              "      <td>32.18</td>\n",
              "      <td>0.458</td>\n",
              "      <td>7.147</td>\n",
              "      <td>54.2</td>\n",
              "      <td>21.3</td>\n",
              "      <td>5.33</td>\n",
              "      <td>NO</td>\n",
              "      <td>8.824</td>\n",
              "      <td>11.28960</td>\n",
              "      <td>Lake</td>\n",
              "      <td>55</td>\n",
              "      <td>0.039474</td>\n",
              "      <td>0</td>\n",
              "      <td>6.0625</td>\n",
              "    </tr>\n",
              "  </tbody>\n",
              "</table>\n",
              "</div>"
            ],
            "text/plain": [
              "   price  resid_area  air_qual  room_num  ...  rainfall     parks  Sold avg_dist\n",
              "0   24.0       32.31     0.538     6.575  ...        23  0.049347     0   4.0875\n",
              "1   21.6       37.07     0.469     6.421  ...        42  0.046146     1   4.9675\n",
              "2   34.7       37.07     0.469     7.185  ...        38  0.045764     0   4.9675\n",
              "3   33.4       32.18     0.458     6.998  ...        45  0.047151     0   6.0650\n",
              "4   36.2       32.18     0.458     7.147  ...        55  0.039474     0   6.0625\n",
              "\n",
              "[5 rows x 15 columns]"
            ]
          },
          "metadata": {
            "tags": []
          },
          "execution_count": 20
        }
      ]
    },
    {
      "cell_type": "code",
      "metadata": {
        "id": "0zDHcql4ufEa",
        "colab_type": "code",
        "colab": {}
      },
      "source": [
        "df = pd.get_dummies(df)\n",
        "del df['waterbody_None']\n",
        "del df['parks']\n",
        "df.head()\n",
        "df.corr()"
      ],
      "execution_count": 0,
      "outputs": []
    },
    {
      "cell_type": "code",
      "metadata": {
        "id": "zwhHdKTILVle",
        "colab_type": "code",
        "outputId": "6c51fbef-4611-4e55-9bc6-13840b8e5b1e",
        "colab": {
          "base_uri": "https://localhost:8080/",
          "height": 243
        }
      },
      "source": [
        "df.head()"
      ],
      "execution_count": 0,
      "outputs": [
        {
          "output_type": "execute_result",
          "data": {
            "text/html": [
              "<div>\n",
              "<style scoped>\n",
              "    .dataframe tbody tr th:only-of-type {\n",
              "        vertical-align: middle;\n",
              "    }\n",
              "\n",
              "    .dataframe tbody tr th {\n",
              "        vertical-align: top;\n",
              "    }\n",
              "\n",
              "    .dataframe thead th {\n",
              "        text-align: right;\n",
              "    }\n",
              "</style>\n",
              "<table border=\"1\" class=\"dataframe\">\n",
              "  <thead>\n",
              "    <tr style=\"text-align: right;\">\n",
              "      <th></th>\n",
              "      <th>price</th>\n",
              "      <th>resid_area</th>\n",
              "      <th>air_qual</th>\n",
              "      <th>room_num</th>\n",
              "      <th>age</th>\n",
              "      <th>teachers</th>\n",
              "      <th>poor_prop</th>\n",
              "      <th>n_hos_beds</th>\n",
              "      <th>n_hot_rooms</th>\n",
              "      <th>rainfall</th>\n",
              "      <th>Sold</th>\n",
              "      <th>avg_dist</th>\n",
              "      <th>airport_YES</th>\n",
              "      <th>waterbody_Lake</th>\n",
              "      <th>waterbody_Lake and River</th>\n",
              "      <th>waterbody_River</th>\n",
              "    </tr>\n",
              "  </thead>\n",
              "  <tbody>\n",
              "    <tr>\n",
              "      <th>0</th>\n",
              "      <td>24.0</td>\n",
              "      <td>32.31</td>\n",
              "      <td>0.538</td>\n",
              "      <td>6.575</td>\n",
              "      <td>65.2</td>\n",
              "      <td>24.7</td>\n",
              "      <td>4.98</td>\n",
              "      <td>5.480</td>\n",
              "      <td>11.19200</td>\n",
              "      <td>23</td>\n",
              "      <td>0</td>\n",
              "      <td>4.0875</td>\n",
              "      <td>1</td>\n",
              "      <td>0</td>\n",
              "      <td>0</td>\n",
              "      <td>1</td>\n",
              "    </tr>\n",
              "    <tr>\n",
              "      <th>1</th>\n",
              "      <td>21.6</td>\n",
              "      <td>37.07</td>\n",
              "      <td>0.469</td>\n",
              "      <td>6.421</td>\n",
              "      <td>78.9</td>\n",
              "      <td>22.2</td>\n",
              "      <td>9.14</td>\n",
              "      <td>7.332</td>\n",
              "      <td>12.17280</td>\n",
              "      <td>42</td>\n",
              "      <td>1</td>\n",
              "      <td>4.9675</td>\n",
              "      <td>0</td>\n",
              "      <td>1</td>\n",
              "      <td>0</td>\n",
              "      <td>0</td>\n",
              "    </tr>\n",
              "    <tr>\n",
              "      <th>2</th>\n",
              "      <td>34.7</td>\n",
              "      <td>37.07</td>\n",
              "      <td>0.469</td>\n",
              "      <td>7.185</td>\n",
              "      <td>61.1</td>\n",
              "      <td>22.2</td>\n",
              "      <td>4.03</td>\n",
              "      <td>7.394</td>\n",
              "      <td>46.19856</td>\n",
              "      <td>38</td>\n",
              "      <td>0</td>\n",
              "      <td>4.9675</td>\n",
              "      <td>0</td>\n",
              "      <td>0</td>\n",
              "      <td>0</td>\n",
              "      <td>0</td>\n",
              "    </tr>\n",
              "    <tr>\n",
              "      <th>3</th>\n",
              "      <td>33.4</td>\n",
              "      <td>32.18</td>\n",
              "      <td>0.458</td>\n",
              "      <td>6.998</td>\n",
              "      <td>45.8</td>\n",
              "      <td>21.3</td>\n",
              "      <td>2.94</td>\n",
              "      <td>9.268</td>\n",
              "      <td>11.26720</td>\n",
              "      <td>45</td>\n",
              "      <td>0</td>\n",
              "      <td>6.0650</td>\n",
              "      <td>1</td>\n",
              "      <td>1</td>\n",
              "      <td>0</td>\n",
              "      <td>0</td>\n",
              "    </tr>\n",
              "    <tr>\n",
              "      <th>4</th>\n",
              "      <td>36.2</td>\n",
              "      <td>32.18</td>\n",
              "      <td>0.458</td>\n",
              "      <td>7.147</td>\n",
              "      <td>54.2</td>\n",
              "      <td>21.3</td>\n",
              "      <td>5.33</td>\n",
              "      <td>8.824</td>\n",
              "      <td>11.28960</td>\n",
              "      <td>55</td>\n",
              "      <td>0</td>\n",
              "      <td>6.0625</td>\n",
              "      <td>0</td>\n",
              "      <td>1</td>\n",
              "      <td>0</td>\n",
              "      <td>0</td>\n",
              "    </tr>\n",
              "  </tbody>\n",
              "</table>\n",
              "</div>"
            ],
            "text/plain": [
              "   price  resid_area  ...  waterbody_Lake and River  waterbody_River\n",
              "0   24.0       32.31  ...                         0                1\n",
              "1   21.6       37.07  ...                         0                0\n",
              "2   34.7       37.07  ...                         0                0\n",
              "3   33.4       32.18  ...                         0                0\n",
              "4   36.2       32.18  ...                         0                0\n",
              "\n",
              "[5 rows x 16 columns]"
            ]
          },
          "metadata": {
            "tags": []
          },
          "execution_count": 54
        }
      ]
    },
    {
      "cell_type": "code",
      "metadata": {
        "id": "EcimqmADvFJe",
        "colab_type": "code",
        "outputId": "927dd71b-dd7e-4bc3-a6d5-e9da6fe8337d",
        "colab": {
          "base_uri": "https://localhost:8080/",
          "height": 459
        }
      },
      "source": [
        "sns.jointplot(x = df['price'], y = df['Sold'], data =df, kind = 'reg')"
      ],
      "execution_count": 0,
      "outputs": [
        {
          "output_type": "execute_result",
          "data": {
            "text/plain": [
              "<seaborn.axisgrid.JointGrid at 0x7f8ff1d38eb8>"
            ]
          },
          "metadata": {
            "tags": []
          },
          "execution_count": 24
        },
        {
          "output_type": "display_data",
          "data": {
            "image/png": "[encoded data removed]",
            "text/plain": [
              "<Figure size 432x432 with 3 Axes>"
            ]
          },
          "metadata": {
            "tags": [],
            "needs_background": "light"
          }
        }
      ]
    },
    {
      "cell_type": "markdown",
      "metadata": {
        "id": "r_BwoMEzAPOn",
        "colab_type": "text"
      },
      "source": [
        ""
      ]
    },
    {
      "cell_type": "code",
      "metadata": {
        "id": "e_kxByUjvavm",
        "colab_type": "code",
        "outputId": "5298098c-18ab-4110-8aba-7db8772491cb",
        "colab": {
          "base_uri": "https://localhost:8080/",
          "height": 243
        }
      },
      "source": [
        "df.head()"
      ],
      "execution_count": 0,
      "outputs": [
        {
          "output_type": "execute_result",
          "data": {
            "text/html": [
              "<div>\n",
              "<style scoped>\n",
              "    .dataframe tbody tr th:only-of-type {\n",
              "        vertical-align: middle;\n",
              "    }\n",
              "\n",
              "    .dataframe tbody tr th {\n",
              "        vertical-align: top;\n",
              "    }\n",
              "\n",
              "    .dataframe thead th {\n",
              "        text-align: right;\n",
              "    }\n",
              "</style>\n",
              "<table border=\"1\" class=\"dataframe\">\n",
              "  <thead>\n",
              "    <tr style=\"text-align: right;\">\n",
              "      <th></th>\n",
              "      <th>price</th>\n",
              "      <th>resid_area</th>\n",
              "      <th>air_qual</th>\n",
              "      <th>room_num</th>\n",
              "      <th>age</th>\n",
              "      <th>teachers</th>\n",
              "      <th>poor_prop</th>\n",
              "      <th>n_hos_beds</th>\n",
              "      <th>n_hot_rooms</th>\n",
              "      <th>rainfall</th>\n",
              "      <th>Sold</th>\n",
              "      <th>avg_dist</th>\n",
              "      <th>airport_YES</th>\n",
              "      <th>waterbody_Lake</th>\n",
              "      <th>waterbody_Lake and River</th>\n",
              "      <th>waterbody_River</th>\n",
              "    </tr>\n",
              "  </thead>\n",
              "  <tbody>\n",
              "    <tr>\n",
              "      <th>0</th>\n",
              "      <td>24.0</td>\n",
              "      <td>32.31</td>\n",
              "      <td>0.538</td>\n",
              "      <td>6.575</td>\n",
              "      <td>65.2</td>\n",
              "      <td>24.7</td>\n",
              "      <td>4.98</td>\n",
              "      <td>5.480</td>\n",
              "      <td>11.19200</td>\n",
              "      <td>23</td>\n",
              "      <td>0</td>\n",
              "      <td>4.0875</td>\n",
              "      <td>1</td>\n",
              "      <td>0</td>\n",
              "      <td>0</td>\n",
              "      <td>1</td>\n",
              "    </tr>\n",
              "    <tr>\n",
              "      <th>1</th>\n",
              "      <td>21.6</td>\n",
              "      <td>37.07</td>\n",
              "      <td>0.469</td>\n",
              "      <td>6.421</td>\n",
              "      <td>78.9</td>\n",
              "      <td>22.2</td>\n",
              "      <td>9.14</td>\n",
              "      <td>7.332</td>\n",
              "      <td>12.17280</td>\n",
              "      <td>42</td>\n",
              "      <td>1</td>\n",
              "      <td>4.9675</td>\n",
              "      <td>0</td>\n",
              "      <td>1</td>\n",
              "      <td>0</td>\n",
              "      <td>0</td>\n",
              "    </tr>\n",
              "    <tr>\n",
              "      <th>2</th>\n",
              "      <td>34.7</td>\n",
              "      <td>37.07</td>\n",
              "      <td>0.469</td>\n",
              "      <td>7.185</td>\n",
              "      <td>61.1</td>\n",
              "      <td>22.2</td>\n",
              "      <td>4.03</td>\n",
              "      <td>7.394</td>\n",
              "      <td>46.19856</td>\n",
              "      <td>38</td>\n",
              "      <td>0</td>\n",
              "      <td>4.9675</td>\n",
              "      <td>0</td>\n",
              "      <td>0</td>\n",
              "      <td>0</td>\n",
              "      <td>0</td>\n",
              "    </tr>\n",
              "    <tr>\n",
              "      <th>3</th>\n",
              "      <td>33.4</td>\n",
              "      <td>32.18</td>\n",
              "      <td>0.458</td>\n",
              "      <td>6.998</td>\n",
              "      <td>45.8</td>\n",
              "      <td>21.3</td>\n",
              "      <td>2.94</td>\n",
              "      <td>9.268</td>\n",
              "      <td>11.26720</td>\n",
              "      <td>45</td>\n",
              "      <td>0</td>\n",
              "      <td>6.0650</td>\n",
              "      <td>1</td>\n",
              "      <td>1</td>\n",
              "      <td>0</td>\n",
              "      <td>0</td>\n",
              "    </tr>\n",
              "    <tr>\n",
              "      <th>4</th>\n",
              "      <td>36.2</td>\n",
              "      <td>32.18</td>\n",
              "      <td>0.458</td>\n",
              "      <td>7.147</td>\n",
              "      <td>54.2</td>\n",
              "      <td>21.3</td>\n",
              "      <td>5.33</td>\n",
              "      <td>8.824</td>\n",
              "      <td>11.28960</td>\n",
              "      <td>55</td>\n",
              "      <td>0</td>\n",
              "      <td>6.0625</td>\n",
              "      <td>0</td>\n",
              "      <td>1</td>\n",
              "      <td>0</td>\n",
              "      <td>0</td>\n",
              "    </tr>\n",
              "  </tbody>\n",
              "</table>\n",
              "</div>"
            ],
            "text/plain": [
              "   price  resid_area  ...  waterbody_Lake and River  waterbody_River\n",
              "0   24.0       32.31  ...                         0                1\n",
              "1   21.6       37.07  ...                         0                0\n",
              "2   34.7       37.07  ...                         0                0\n",
              "3   33.4       32.18  ...                         0                0\n",
              "4   36.2       32.18  ...                         0                0\n",
              "\n",
              "[5 rows x 16 columns]"
            ]
          },
          "metadata": {
            "tags": []
          },
          "execution_count": 25
        }
      ]
    },
    {
      "cell_type": "code",
      "metadata": {
        "id": "EmJpZTMHvqi-",
        "colab_type": "code",
        "outputId": "40ce37b9-d649-4b4d-ab94-3d3f0988d7b2",
        "colab": {
          "base_uri": "https://localhost:8080/",
          "height": 337
        }
      },
      "source": [
        "x_multi = df.drop(\"Sold\",axis=1)\n",
        "x_multi.describe()"
      ],
      "execution_count": 0,
      "outputs": [
        {
          "output_type": "execute_result",
          "data": {
            "text/html": [
              "<div>\n",
              "<style scoped>\n",
              "    .dataframe tbody tr th:only-of-type {\n",
              "        vertical-align: middle;\n",
              "    }\n",
              "\n",
              "    .dataframe tbody tr th {\n",
              "        vertical-align: top;\n",
              "    }\n",
              "\n",
              "    .dataframe thead th {\n",
              "        text-align: right;\n",
              "    }\n",
              "</style>\n",
              "<table border=\"1\" class=\"dataframe\">\n",
              "  <thead>\n",
              "    <tr style=\"text-align: right;\">\n",
              "      <th></th>\n",
              "      <th>price</th>\n",
              "      <th>resid_area</th>\n",
              "      <th>air_qual</th>\n",
              "      <th>room_num</th>\n",
              "      <th>age</th>\n",
              "      <th>teachers</th>\n",
              "      <th>poor_prop</th>\n",
              "      <th>n_hos_beds</th>\n",
              "      <th>n_hot_rooms</th>\n",
              "      <th>rainfall</th>\n",
              "      <th>avg_dist</th>\n",
              "      <th>airport_YES</th>\n",
              "      <th>waterbody_Lake</th>\n",
              "      <th>waterbody_Lake and River</th>\n",
              "      <th>waterbody_River</th>\n",
              "    </tr>\n",
              "  </thead>\n",
              "  <tbody>\n",
              "    <tr>\n",
              "      <th>count</th>\n",
              "      <td>506.000000</td>\n",
              "      <td>506.000000</td>\n",
              "      <td>506.000000</td>\n",
              "      <td>506.000000</td>\n",
              "      <td>506.000000</td>\n",
              "      <td>506.000000</td>\n",
              "      <td>506.000000</td>\n",
              "      <td>506.000000</td>\n",
              "      <td>506.000000</td>\n",
              "      <td>506.000000</td>\n",
              "      <td>506.000000</td>\n",
              "      <td>506.000000</td>\n",
              "      <td>506.000000</td>\n",
              "      <td>506.000000</td>\n",
              "      <td>506.000000</td>\n",
              "    </tr>\n",
              "    <tr>\n",
              "      <th>mean</th>\n",
              "      <td>22.528854</td>\n",
              "      <td>41.136779</td>\n",
              "      <td>0.554695</td>\n",
              "      <td>6.284634</td>\n",
              "      <td>68.574901</td>\n",
              "      <td>21.544466</td>\n",
              "      <td>12.653063</td>\n",
              "      <td>23.569336</td>\n",
              "      <td>12.864050</td>\n",
              "      <td>39.187747</td>\n",
              "      <td>3.795104</td>\n",
              "      <td>0.551383</td>\n",
              "      <td>0.191700</td>\n",
              "      <td>0.140316</td>\n",
              "      <td>0.361660</td>\n",
              "    </tr>\n",
              "    <tr>\n",
              "      <th>std</th>\n",
              "      <td>9.182176</td>\n",
              "      <td>6.860353</td>\n",
              "      <td>0.115878</td>\n",
              "      <td>0.702617</td>\n",
              "      <td>28.148861</td>\n",
              "      <td>2.164946</td>\n",
              "      <td>7.141062</td>\n",
              "      <td>123.761830</td>\n",
              "      <td>2.688778</td>\n",
              "      <td>12.497221</td>\n",
              "      <td>2.105859</td>\n",
              "      <td>0.497845</td>\n",
              "      <td>0.394028</td>\n",
              "      <td>0.347659</td>\n",
              "      <td>0.480957</td>\n",
              "    </tr>\n",
              "    <tr>\n",
              "      <th>min</th>\n",
              "      <td>5.000000</td>\n",
              "      <td>30.460000</td>\n",
              "      <td>0.385000</td>\n",
              "      <td>3.561000</td>\n",
              "      <td>2.900000</td>\n",
              "      <td>18.000000</td>\n",
              "      <td>1.730000</td>\n",
              "      <td>5.268000</td>\n",
              "      <td>10.057600</td>\n",
              "      <td>6.000000</td>\n",
              "      <td>1.127500</td>\n",
              "      <td>0.000000</td>\n",
              "      <td>0.000000</td>\n",
              "      <td>0.000000</td>\n",
              "      <td>0.000000</td>\n",
              "    </tr>\n",
              "    <tr>\n",
              "      <th>25%</th>\n",
              "      <td>17.025000</td>\n",
              "      <td>35.190000</td>\n",
              "      <td>0.449000</td>\n",
              "      <td>5.885500</td>\n",
              "      <td>45.025000</td>\n",
              "      <td>19.800000</td>\n",
              "      <td>6.950000</td>\n",
              "      <td>6.659000</td>\n",
              "      <td>11.189800</td>\n",
              "      <td>28.000000</td>\n",
              "      <td>2.100625</td>\n",
              "      <td>0.000000</td>\n",
              "      <td>0.000000</td>\n",
              "      <td>0.000000</td>\n",
              "      <td>0.000000</td>\n",
              "    </tr>\n",
              "    <tr>\n",
              "      <th>50%</th>\n",
              "      <td>21.200000</td>\n",
              "      <td>39.690000</td>\n",
              "      <td>0.538000</td>\n",
              "      <td>6.208500</td>\n",
              "      <td>77.500000</td>\n",
              "      <td>20.950000</td>\n",
              "      <td>11.360000</td>\n",
              "      <td>8.018000</td>\n",
              "      <td>12.720000</td>\n",
              "      <td>39.000000</td>\n",
              "      <td>3.207500</td>\n",
              "      <td>1.000000</td>\n",
              "      <td>0.000000</td>\n",
              "      <td>0.000000</td>\n",
              "      <td>0.000000</td>\n",
              "    </tr>\n",
              "    <tr>\n",
              "      <th>75%</th>\n",
              "      <td>25.000000</td>\n",
              "      <td>48.100000</td>\n",
              "      <td>0.624000</td>\n",
              "      <td>6.623500</td>\n",
              "      <td>94.075000</td>\n",
              "      <td>22.600000</td>\n",
              "      <td>16.955000</td>\n",
              "      <td>9.155000</td>\n",
              "      <td>14.170800</td>\n",
              "      <td>50.000000</td>\n",
              "      <td>5.187500</td>\n",
              "      <td>1.000000</td>\n",
              "      <td>0.000000</td>\n",
              "      <td>0.000000</td>\n",
              "      <td>1.000000</td>\n",
              "    </tr>\n",
              "    <tr>\n",
              "      <th>max</th>\n",
              "      <td>50.000000</td>\n",
              "      <td>57.740000</td>\n",
              "      <td>0.871000</td>\n",
              "      <td>8.780000</td>\n",
              "      <td>100.000000</td>\n",
              "      <td>27.400000</td>\n",
              "      <td>37.970000</td>\n",
              "      <td>999.000000</td>\n",
              "      <td>46.198560</td>\n",
              "      <td>60.000000</td>\n",
              "      <td>12.127500</td>\n",
              "      <td>1.000000</td>\n",
              "      <td>1.000000</td>\n",
              "      <td>1.000000</td>\n",
              "      <td>1.000000</td>\n",
              "    </tr>\n",
              "  </tbody>\n",
              "</table>\n",
              "</div>"
            ],
            "text/plain": [
              "            price  resid_area  ...  waterbody_Lake and River  waterbody_River\n",
              "count  506.000000  506.000000  ...                506.000000       506.000000\n",
              "mean    22.528854   41.136779  ...                  0.140316         0.361660\n",
              "std      9.182176    6.860353  ...                  0.347659         0.480957\n",
              "min      5.000000   30.460000  ...                  0.000000         0.000000\n",
              "25%     17.025000   35.190000  ...                  0.000000         0.000000\n",
              "50%     21.200000   39.690000  ...                  0.000000         0.000000\n",
              "75%     25.000000   48.100000  ...                  0.000000         1.000000\n",
              "max     50.000000   57.740000  ...                  1.000000         1.000000\n",
              "\n",
              "[8 rows x 15 columns]"
            ]
          },
          "metadata": {
            "tags": []
          },
          "execution_count": 55
        }
      ]
    },
    {
      "cell_type": "code",
      "metadata": {
        "id": "0_vicbLfwJOc",
        "colab_type": "code",
        "outputId": "a6f2ca11-6dae-43ab-8c6d-a96fa4c175d2",
        "colab": {
          "base_uri": "https://localhost:8080/",
          "height": 235
        }
      },
      "source": [
        "y_multi = df['Sold']\n",
        "y_multi"
      ],
      "execution_count": 0,
      "outputs": [
        {
          "output_type": "execute_result",
          "data": {
            "text/plain": [
              "0      0\n",
              "1      1\n",
              "2      0\n",
              "3      0\n",
              "4      0\n",
              "      ..\n",
              "501    1\n",
              "502    1\n",
              "503    1\n",
              "504    1\n",
              "505    1\n",
              "Name: Sold, Length: 506, dtype: int64"
            ]
          },
          "metadata": {
            "tags": []
          },
          "execution_count": 56
        }
      ]
    },
    {
      "cell_type": "markdown",
      "metadata": {
        "id": "lL-NaG6aATnG",
        "colab_type": "text"
      },
      "source": [
        ""
      ]
    },
    {
      "cell_type": "code",
      "metadata": {
        "id": "LWuUrp-4_C5w",
        "colab_type": "code",
        "outputId": "9dbeb061-7bce-44b0-b1a2-cf294e39ae20",
        "colab": {
          "base_uri": "https://localhost:8080/",
          "height": 35
        }
      },
      "source": [
        "from sklearn.model_selection import train_test_split\n",
        "x_train_full,x_test,y_train_full,y_test =train_test_split(x_multi,y_multi,test_size=0.2,random_state=42)\n",
        "\n",
        "x_valid, x_train = x_train_full[:202], x_train_full[202:]\n",
        "y_valid, y_train = y_train_full[:202], y_train_full[202:]\n",
        "\n",
        "x_valid.shape[0]!=y_valid.shape[0]"
      ],
      "execution_count": 0,
      "outputs": [
        {
          "output_type": "execute_result",
          "data": {
            "text/plain": [
              "False"
            ]
          },
          "metadata": {
            "tags": []
          },
          "execution_count": 141
        }
      ]
    },
    {
      "cell_type": "code",
      "metadata": {
        "id": "Z3s7E7Z8AIv0",
        "colab_type": "code",
        "outputId": "fd02257b-2945-4b63-bba3-a9f8b400480b",
        "colab": {
          "base_uri": "https://localhost:8080/",
          "height": 181
        }
      },
      "source": [
        "from sklearn.preprocessing import StandardScaler\n",
        "scaler = StandardScaler()\n",
        "x_train = scaler.fit_transform(x_train)\n",
        "x_valid = scaler.transform(x_valid)\n",
        "x_test = scaler.transform(x_test)"
      ],
      "execution_count": 0,
      "outputs": [
        {
          "output_type": "execute_result",
          "data": {
            "text/plain": [
              "array([[ 0.06000617, -1.00241041, -0.38612595,  0.10104838,  0.56273083,\n",
              "         0.76377407, -0.48253412, -0.14653631, -1.50355173,  1.64801907,\n",
              "        -0.57184501,  0.86103386, -0.4578    , -0.41763453, -0.76847328],\n",
              "       [ 1.00146214, -0.65456315, -0.94281503,  0.57629015, -1.28277504,\n",
              "         0.32107002, -1.28257899, -0.14149713, -0.2536519 , -0.64130882,\n",
              "         0.12483491, -1.16139451, -0.4578    , -0.41763453,  1.30128142],\n",
              "       [-1.00983017,  2.48932757,  0.48867118, -0.50064661,  1.09259286,\n",
              "        -0.78569012,  0.8286102 , -0.16471888,  0.86295105,  0.70071098,\n",
              "        -0.95118906, -1.16139451, -0.4578    , -0.41763453, -0.76847328]])"
            ]
          },
          "metadata": {
            "tags": []
          },
          "execution_count": 142
        }
      ]
    },
    {
      "cell_type": "code",
      "metadata": {
        "id": "QLrJtzswAgdZ",
        "colab_type": "code",
        "outputId": "381aef59-23c2-4a60-c0cc-61aa97274f22",
        "colab": {
          "base_uri": "https://localhost:8080/",
          "height": 453
        }
      },
      "source": [
        "\n",
        "import tensorflow as tf\n",
        "from tensorflow import keras\n",
        "\n",
        "np.random.seed(42)\n",
        "tf.random.set_seed(42)\n",
        "model = keras.models.Sequential([\n",
        "    keras.layers.Dense(30, activation=\"relu\"),\n",
        "    keras.layers.Dense(30, activation=\"relu\"),\n",
        "    keras.layers.Dense(1)\n",
        "])\n",
        "# keras.layers.Dense(30, activation=\"relu\", input_shape=X_train.shape[1:])\n",
        "df.info()\n",
        "print(tf.__version__)"
      ],
      "execution_count": 0,
      "outputs": [
        {
          "output_type": "stream",
          "text": [
            "<class 'pandas.core.frame.DataFrame'>\n",
            "RangeIndex: 506 entries, 0 to 505\n",
            "Data columns (total 16 columns):\n",
            " #   Column                    Non-Null Count  Dtype  \n",
            "---  ------                    --------------  -----  \n",
            " 0   price                     506 non-null    float64\n",
            " 1   resid_area                506 non-null    float64\n",
            " 2   air_qual                  506 non-null    float64\n",
            " 3   room_num                  506 non-null    float64\n",
            " 4   age                       506 non-null    float64\n",
            " 5   teachers                  506 non-null    float64\n",
            " 6   poor_prop                 506 non-null    float64\n",
            " 7   n_hos_beds                506 non-null    float64\n",
            " 8   n_hot_rooms               506 non-null    float64\n",
            " 9   rainfall                  506 non-null    int64  \n",
            " 10  Sold                      506 non-null    int64  \n",
            " 11  avg_dist                  506 non-null    float64\n",
            " 12  airport_YES               506 non-null    uint8  \n",
            " 13  waterbody_Lake            506 non-null    uint8  \n",
            " 14  waterbody_Lake and River  506 non-null    uint8  \n",
            " 15  waterbody_River           506 non-null    uint8  \n",
            "dtypes: float64(10), int64(2), uint8(4)\n",
            "memory usage: 49.5 KB\n",
            "2.2.0-rc3\n"
          ],
          "name": "stdout"
        }
      ]
    },
    {
      "cell_type": "code",
      "metadata": {
        "id": "MZc0Ml8eBLCI",
        "colab_type": "code",
        "outputId": "41087088-3a96-47b7-b86b-aea41a1307fb",
        "colab": {
          "base_uri": "https://localhost:8080/",
          "height": 35
        }
      },
      "source": [
        "model.compile(loss=\"mean_squared_error\", \n",
        "              optimizer=keras.optimizers.SGD(lr=1e-3), \n",
        "              metrics=['accuracy'])\n",
        "x_train.shape"
      ],
      "execution_count": 0,
      "outputs": [
        {
          "output_type": "execute_result",
          "data": {
            "text/plain": [
              "(202, 15)"
            ]
          },
          "metadata": {
            "tags": []
          },
          "execution_count": 151
        }
      ]
    },
    {
      "cell_type": "code",
      "metadata": {
        "id": "rtd9PsofG38p",
        "colab_type": "code",
        "outputId": "89ae879a-0ef9-402b-eaf9-7bff7fa003a1",
        "colab": {
          "base_uri": "https://localhost:8080/",
          "height": 1000
        }
      },
      "source": [
        "model_history = model.fit(x_train, y_train, epochs=80,validation_data=(x_valid, y_valid))"
      ],
      "execution_count": 0,
      "outputs": [
        {
          "output_type": "stream",
          "text": [
            "Epoch 1/80\n",
            "7/7 [==============================] - 0s 16ms/step - loss: 0.2422 - accuracy: 0.6188 - val_loss: 0.2568 - val_accuracy: 0.5792\n",
            "Epoch 2/80\n",
            "7/7 [==============================] - 0s 7ms/step - loss: 0.2406 - accuracy: 0.6188 - val_loss: 0.2563 - val_accuracy: 0.5693\n",
            "Epoch 3/80\n",
            "7/7 [==============================] - 0s 8ms/step - loss: 0.2479 - accuracy: 0.6188 - val_loss: 0.2562 - val_accuracy: 0.5743\n",
            "Epoch 4/80\n",
            "7/7 [==============================] - 0s 7ms/step - loss: 0.2314 - accuracy: 0.6139 - val_loss: 0.2561 - val_accuracy: 0.5743\n",
            "Epoch 5/80\n",
            "7/7 [==============================] - 0s 8ms/step - loss: 0.2425 - accuracy: 0.6139 - val_loss: 0.2558 - val_accuracy: 0.5743\n",
            "Epoch 6/80\n",
            "7/7 [==============================] - 0s 8ms/step - loss: 0.2302 - accuracy: 0.6188 - val_loss: 0.2556 - val_accuracy: 0.5743\n",
            "Epoch 7/80\n",
            "7/7 [==============================] - 0s 7ms/step - loss: 0.2281 - accuracy: 0.6139 - val_loss: 0.2555 - val_accuracy: 0.5743\n",
            "Epoch 8/80\n",
            "7/7 [==============================] - 0s 7ms/step - loss: 0.2313 - accuracy: 0.6188 - val_loss: 0.2552 - val_accuracy: 0.5743\n",
            "Epoch 9/80\n",
            "7/7 [==============================] - 0s 7ms/step - loss: 0.2342 - accuracy: 0.6139 - val_loss: 0.2552 - val_accuracy: 0.5743\n",
            "Epoch 10/80\n",
            "7/7 [==============================] - 0s 7ms/step - loss: 0.2292 - accuracy: 0.6188 - val_loss: 0.2550 - val_accuracy: 0.5743\n",
            "Epoch 11/80\n",
            "7/7 [==============================] - 0s 7ms/step - loss: 0.2281 - accuracy: 0.6188 - val_loss: 0.2547 - val_accuracy: 0.5792\n",
            "Epoch 12/80\n",
            "7/7 [==============================] - 0s 8ms/step - loss: 0.2257 - accuracy: 0.6139 - val_loss: 0.2546 - val_accuracy: 0.5792\n",
            "Epoch 13/80\n",
            "7/7 [==============================] - 0s 6ms/step - loss: 0.2315 - accuracy: 0.6188 - val_loss: 0.2544 - val_accuracy: 0.5792\n",
            "Epoch 14/80\n",
            "7/7 [==============================] - 0s 7ms/step - loss: 0.2318 - accuracy: 0.6188 - val_loss: 0.2541 - val_accuracy: 0.5743\n",
            "Epoch 15/80\n",
            "7/7 [==============================] - 0s 7ms/step - loss: 0.2289 - accuracy: 0.6188 - val_loss: 0.2540 - val_accuracy: 0.5743\n",
            "Epoch 16/80\n",
            "7/7 [==============================] - 0s 7ms/step - loss: 0.2302 - accuracy: 0.6238 - val_loss: 0.2539 - val_accuracy: 0.5743\n",
            "Epoch 17/80\n",
            "7/7 [==============================] - 0s 7ms/step - loss: 0.2268 - accuracy: 0.6238 - val_loss: 0.2540 - val_accuracy: 0.5792\n",
            "Epoch 18/80\n",
            "7/7 [==============================] - 0s 7ms/step - loss: 0.2224 - accuracy: 0.6238 - val_loss: 0.2536 - val_accuracy: 0.5743\n",
            "Epoch 19/80\n",
            "7/7 [==============================] - 0s 7ms/step - loss: 0.2322 - accuracy: 0.6238 - val_loss: 0.2536 - val_accuracy: 0.5743\n",
            "Epoch 20/80\n",
            "7/7 [==============================] - 0s 7ms/step - loss: 0.2250 - accuracy: 0.6287 - val_loss: 0.2535 - val_accuracy: 0.5743\n",
            "Epoch 21/80\n",
            "7/7 [==============================] - 0s 7ms/step - loss: 0.2280 - accuracy: 0.6238 - val_loss: 0.2534 - val_accuracy: 0.5693\n",
            "Epoch 22/80\n",
            "7/7 [==============================] - 0s 8ms/step - loss: 0.2328 - accuracy: 0.6337 - val_loss: 0.2533 - val_accuracy: 0.5644\n",
            "Epoch 23/80\n",
            "7/7 [==============================] - 0s 7ms/step - loss: 0.2401 - accuracy: 0.6337 - val_loss: 0.2530 - val_accuracy: 0.5693\n",
            "Epoch 24/80\n",
            "7/7 [==============================] - 0s 7ms/step - loss: 0.2339 - accuracy: 0.6337 - val_loss: 0.2528 - val_accuracy: 0.5693\n",
            "Epoch 25/80\n",
            "7/7 [==============================] - 0s 7ms/step - loss: 0.2244 - accuracy: 0.6337 - val_loss: 0.2526 - val_accuracy: 0.5693\n",
            "Epoch 26/80\n",
            "7/7 [==============================] - 0s 7ms/step - loss: 0.2320 - accuracy: 0.6238 - val_loss: 0.2524 - val_accuracy: 0.5644\n",
            "Epoch 27/80\n",
            "7/7 [==============================] - 0s 7ms/step - loss: 0.2427 - accuracy: 0.6337 - val_loss: 0.2526 - val_accuracy: 0.5644\n",
            "Epoch 28/80\n",
            "7/7 [==============================] - 0s 7ms/step - loss: 0.2253 - accuracy: 0.6337 - val_loss: 0.2524 - val_accuracy: 0.5693\n",
            "Epoch 29/80\n",
            "7/7 [==============================] - 0s 7ms/step - loss: 0.2293 - accuracy: 0.6337 - val_loss: 0.2523 - val_accuracy: 0.5693\n",
            "Epoch 30/80\n",
            "7/7 [==============================] - 0s 7ms/step - loss: 0.2291 - accuracy: 0.6337 - val_loss: 0.2519 - val_accuracy: 0.5644\n",
            "Epoch 31/80\n",
            "7/7 [==============================] - 0s 8ms/step - loss: 0.2268 - accuracy: 0.6337 - val_loss: 0.2519 - val_accuracy: 0.5644\n",
            "Epoch 32/80\n",
            "7/7 [==============================] - 0s 7ms/step - loss: 0.2222 - accuracy: 0.6337 - val_loss: 0.2517 - val_accuracy: 0.5693\n",
            "Epoch 33/80\n",
            "7/7 [==============================] - 0s 7ms/step - loss: 0.2208 - accuracy: 0.6337 - val_loss: 0.2516 - val_accuracy: 0.5693\n",
            "Epoch 34/80\n",
            "7/7 [==============================] - 0s 7ms/step - loss: 0.2209 - accuracy: 0.6337 - val_loss: 0.2515 - val_accuracy: 0.5743\n",
            "Epoch 35/80\n",
            "7/7 [==============================] - 0s 7ms/step - loss: 0.2264 - accuracy: 0.6436 - val_loss: 0.2512 - val_accuracy: 0.5743\n",
            "Epoch 36/80\n",
            "7/7 [==============================] - 0s 7ms/step - loss: 0.2288 - accuracy: 0.6386 - val_loss: 0.2511 - val_accuracy: 0.5792\n",
            "Epoch 37/80\n",
            "7/7 [==============================] - 0s 7ms/step - loss: 0.2222 - accuracy: 0.6436 - val_loss: 0.2509 - val_accuracy: 0.5792\n",
            "Epoch 38/80\n",
            "7/7 [==============================] - 0s 7ms/step - loss: 0.2225 - accuracy: 0.6386 - val_loss: 0.2507 - val_accuracy: 0.5792\n",
            "Epoch 39/80\n",
            "7/7 [==============================] - 0s 7ms/step - loss: 0.2214 - accuracy: 0.6386 - val_loss: 0.2506 - val_accuracy: 0.5792\n",
            "Epoch 40/80\n",
            "7/7 [==============================] - 0s 7ms/step - loss: 0.2224 - accuracy: 0.6337 - val_loss: 0.2505 - val_accuracy: 0.5792\n",
            "Epoch 41/80\n",
            "7/7 [==============================] - 0s 8ms/step - loss: 0.2216 - accuracy: 0.6386 - val_loss: 0.2504 - val_accuracy: 0.5792\n",
            "Epoch 42/80\n",
            "7/7 [==============================] - 0s 7ms/step - loss: 0.2213 - accuracy: 0.6386 - val_loss: 0.2502 - val_accuracy: 0.5743\n",
            "Epoch 43/80\n",
            "7/7 [==============================] - 0s 7ms/step - loss: 0.2358 - accuracy: 0.6386 - val_loss: 0.2499 - val_accuracy: 0.5792\n",
            "Epoch 44/80\n",
            "7/7 [==============================] - 0s 7ms/step - loss: 0.2261 - accuracy: 0.6386 - val_loss: 0.2498 - val_accuracy: 0.5792\n",
            "Epoch 45/80\n",
            "7/7 [==============================] - 0s 7ms/step - loss: 0.2278 - accuracy: 0.6337 - val_loss: 0.2497 - val_accuracy: 0.5792\n",
            "Epoch 46/80\n",
            "7/7 [==============================] - 0s 6ms/step - loss: 0.2305 - accuracy: 0.6337 - val_loss: 0.2496 - val_accuracy: 0.5792\n",
            "Epoch 47/80\n",
            "7/7 [==============================] - 0s 7ms/step - loss: 0.2317 - accuracy: 0.6337 - val_loss: 0.2494 - val_accuracy: 0.5792\n",
            "Epoch 48/80\n",
            "7/7 [==============================] - 0s 7ms/step - loss: 0.2153 - accuracy: 0.6337 - val_loss: 0.2495 - val_accuracy: 0.5792\n",
            "Epoch 49/80\n",
            "7/7 [==============================] - 0s 7ms/step - loss: 0.2311 - accuracy: 0.6337 - val_loss: 0.2494 - val_accuracy: 0.5792\n",
            "Epoch 50/80\n",
            "7/7 [==============================] - 0s 8ms/step - loss: 0.2167 - accuracy: 0.6386 - val_loss: 0.2493 - val_accuracy: 0.5792\n",
            "Epoch 51/80\n",
            "7/7 [==============================] - 0s 7ms/step - loss: 0.2247 - accuracy: 0.6386 - val_loss: 0.2494 - val_accuracy: 0.5792\n",
            "Epoch 52/80\n",
            "7/7 [==============================] - 0s 7ms/step - loss: 0.2222 - accuracy: 0.6386 - val_loss: 0.2493 - val_accuracy: 0.5792\n",
            "Epoch 53/80\n",
            "7/7 [==============================] - 0s 7ms/step - loss: 0.2191 - accuracy: 0.6386 - val_loss: 0.2493 - val_accuracy: 0.5743\n",
            "Epoch 54/80\n",
            "7/7 [==============================] - 0s 6ms/step - loss: 0.2247 - accuracy: 0.6436 - val_loss: 0.2489 - val_accuracy: 0.5792\n",
            "Epoch 55/80\n",
            "7/7 [==============================] - 0s 7ms/step - loss: 0.2176 - accuracy: 0.6386 - val_loss: 0.2488 - val_accuracy: 0.5792\n",
            "Epoch 56/80\n",
            "7/7 [==============================] - 0s 6ms/step - loss: 0.2141 - accuracy: 0.6386 - val_loss: 0.2486 - val_accuracy: 0.5842\n",
            "Epoch 57/80\n",
            "7/7 [==============================] - 0s 7ms/step - loss: 0.2142 - accuracy: 0.6485 - val_loss: 0.2484 - val_accuracy: 0.5842\n",
            "Epoch 58/80\n",
            "7/7 [==============================] - 0s 7ms/step - loss: 0.2332 - accuracy: 0.6436 - val_loss: 0.2483 - val_accuracy: 0.5842\n",
            "Epoch 59/80\n",
            "7/7 [==============================] - 0s 8ms/step - loss: 0.2235 - accuracy: 0.6436 - val_loss: 0.2485 - val_accuracy: 0.5792\n",
            "Epoch 60/80\n",
            "7/7 [==============================] - 0s 7ms/step - loss: 0.2157 - accuracy: 0.6436 - val_loss: 0.2484 - val_accuracy: 0.5792\n",
            "Epoch 61/80\n",
            "7/7 [==============================] - 0s 7ms/step - loss: 0.2165 - accuracy: 0.6485 - val_loss: 0.2483 - val_accuracy: 0.5792\n",
            "Epoch 62/80\n",
            "7/7 [==============================] - 0s 7ms/step - loss: 0.2146 - accuracy: 0.6436 - val_loss: 0.2482 - val_accuracy: 0.5792\n",
            "Epoch 63/80\n",
            "7/7 [==============================] - 0s 7ms/step - loss: 0.2272 - accuracy: 0.6485 - val_loss: 0.2482 - val_accuracy: 0.5792\n",
            "Epoch 64/80\n",
            "7/7 [==============================] - 0s 7ms/step - loss: 0.2183 - accuracy: 0.6436 - val_loss: 0.2481 - val_accuracy: 0.5792\n",
            "Epoch 65/80\n",
            "7/7 [==============================] - 0s 7ms/step - loss: 0.2179 - accuracy: 0.6436 - val_loss: 0.2480 - val_accuracy: 0.5792\n",
            "Epoch 66/80\n",
            "7/7 [==============================] - 0s 7ms/step - loss: 0.2161 - accuracy: 0.6436 - val_loss: 0.2479 - val_accuracy: 0.5743\n",
            "Epoch 67/80\n",
            "7/7 [==============================] - 0s 7ms/step - loss: 0.2103 - accuracy: 0.6485 - val_loss: 0.2479 - val_accuracy: 0.5743\n",
            "Epoch 68/80\n",
            "7/7 [==============================] - 0s 7ms/step - loss: 0.2208 - accuracy: 0.6535 - val_loss: 0.2478 - val_accuracy: 0.5693\n",
            "Epoch 69/80\n",
            "7/7 [==============================] - 0s 8ms/step - loss: 0.2147 - accuracy: 0.6436 - val_loss: 0.2475 - val_accuracy: 0.5693\n",
            "Epoch 70/80\n",
            "7/7 [==============================] - 0s 7ms/step - loss: 0.2161 - accuracy: 0.6584 - val_loss: 0.2475 - val_accuracy: 0.5743\n",
            "Epoch 71/80\n",
            "7/7 [==============================] - 0s 7ms/step - loss: 0.2106 - accuracy: 0.6535 - val_loss: 0.2475 - val_accuracy: 0.5693\n",
            "Epoch 72/80\n",
            "7/7 [==============================] - 0s 7ms/step - loss: 0.2133 - accuracy: 0.6485 - val_loss: 0.2475 - val_accuracy: 0.5693\n",
            "Epoch 73/80\n",
            "7/7 [==============================] - 0s 7ms/step - loss: 0.2153 - accuracy: 0.6634 - val_loss: 0.2476 - val_accuracy: 0.5693\n",
            "Epoch 74/80\n",
            "7/7 [==============================] - 0s 8ms/step - loss: 0.2238 - accuracy: 0.6584 - val_loss: 0.2475 - val_accuracy: 0.5693\n",
            "Epoch 75/80\n",
            "7/7 [==============================] - 0s 7ms/step - loss: 0.2127 - accuracy: 0.6584 - val_loss: 0.2476 - val_accuracy: 0.5743\n",
            "Epoch 76/80\n",
            "7/7 [==============================] - 0s 7ms/step - loss: 0.2268 - accuracy: 0.6535 - val_loss: 0.2474 - val_accuracy: 0.5693\n",
            "Epoch 77/80\n",
            "7/7 [==============================] - 0s 7ms/step - loss: 0.2074 - accuracy: 0.6584 - val_loss: 0.2472 - val_accuracy: 0.5644\n",
            "Epoch 78/80\n",
            "7/7 [==============================] - 0s 8ms/step - loss: 0.2083 - accuracy: 0.6584 - val_loss: 0.2473 - val_accuracy: 0.5693\n",
            "Epoch 79/80\n",
            "7/7 [==============================] - 0s 7ms/step - loss: 0.2103 - accuracy: 0.6584 - val_loss: 0.2472 - val_accuracy: 0.5792\n",
            "Epoch 80/80\n",
            "7/7 [==============================] - 0s 7ms/step - loss: 0.2114 - accuracy: 0.6634 - val_loss: 0.2470 - val_accuracy: 0.5743\n"
          ],
          "name": "stdout"
        }
      ]
    },
    {
      "cell_type": "code",
      "metadata": {
        "id": "XR23u5pRPKZI",
        "colab_type": "code",
        "outputId": "1b2a487e-ec38-4020-af43-e3e5bfc164a5",
        "colab": {
          "base_uri": "https://localhost:8080/",
          "height": 35
        }
      },
      "source": [
        "mae_test = model.evaluate(x_test, y_test)\n"
      ],
      "execution_count": 0,
      "outputs": [
        {
          "output_type": "stream",
          "text": [
            "4/4 [==============================] - 0s 2ms/step - loss: 0.2260 - accuracy: 0.6471\n"
          ],
          "name": "stdout"
        }
      ]
    },
    {
      "cell_type": "code",
      "metadata": {
        "id": "W0x8tUicPKWA",
        "colab_type": "code",
        "outputId": "898091e3-29e4-4ca5-b996-7274a11fbdc4",
        "colab": {
          "base_uri": "https://localhost:8080/",
          "height": 324
        }
      },
      "source": [
        "import pandas as pd\n",
        "import matplotlib.pyplot as plt\n",
        "pd.DataFrame(model_history.history).plot(figsize=(8, 5))\n",
        "plt.grid(True)\n",
        "plt.gca().set_ylim(0, 1)\n",
        "\n",
        "plt.show()"
      ],
      "execution_count": 0,
      "outputs": [
        {
          "output_type": "display_data",
          "data": {
            "image/png": "[encoded data removed]",
            "text/plain": [
              "<Figure size 576x360 with 1 Axes>"
            ]
          },
          "metadata": {
            "tags": [],
            "needs_background": "light"
          }
        }
      ]
    },
    {
      "cell_type": "code",
      "metadata": {
        "id": "CVYvSZfBPKQx",
        "colab_type": "code",
        "colab": {}
      },
      "source": [
        "x_new = x_test[:3]"
      ],
      "execution_count": 0,
      "outputs": []
    },
    {
      "cell_type": "code",
      "metadata": {
        "id": "WJ1aO0ycPKJB",
        "colab_type": "code",
        "outputId": "d08716a4-35cf-4340-d4ab-f6dca619b33a",
        "colab": {
          "base_uri": "https://localhost:8080/",
          "height": 235
        }
      },
      "source": [
        "y_pred = model.predict(x_test[:3])\n",
        "print (y_pred)\n",
        "x_test[0:3]"
      ],
      "execution_count": 0,
      "outputs": [
        {
          "output_type": "stream",
          "text": [
            "[[0.6515901 ]\n",
            " [0.46739528]\n",
            " [0.6331557 ]]\n"
          ],
          "name": "stdout"
        },
        {
          "output_type": "execute_result",
          "data": {
            "text/plain": [
              "array([[ 0.08587867, -1.00711147, -0.39541229,  0.14128239,  0.55591643,\n",
              "         0.77195078, -0.48121032, -0.11781471, -1.0934198 ,  1.61417856,\n",
              "        -0.54528264,  0.86978258, -0.50463688, -0.3927922 , -0.74420841],\n",
              "       [ 1.03259453, -0.66439105, -0.93131473,  0.62394249, -1.27525438,\n",
              "         0.32270256, -1.25709448, -0.11181445, -0.2144464 , -0.7057081 ,\n",
              "         0.12764928, -1.14971261, -0.50463688, -0.3927922 ,  1.34370962],\n",
              "       [-0.9899348 ,  2.43316256,  0.44672012, -0.46980481,  1.08166274,\n",
              "        -0.80041799,  0.79033849, -0.13946511,  0.57078795,  0.65422546,\n",
              "        -0.91169584, -1.14971261, -0.50463688, -0.3927922 , -0.74420841]])"
            ]
          },
          "metadata": {
            "tags": []
          },
          "execution_count": 132
        }
      ]
    }
  ]
}